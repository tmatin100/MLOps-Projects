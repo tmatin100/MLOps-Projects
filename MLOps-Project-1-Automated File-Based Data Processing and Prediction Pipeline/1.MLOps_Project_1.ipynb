{
 "cells": [
  {
   "cell_type": "markdown",
   "id": "5b5e1b4d-ca63-4bc2-9fcf-9b51c8883112",
   "metadata": {},
   "source": [
    "# MLOps Project 1 : Automated File-Based Data Processing and Perdiction Pipeline \n"
   ]
  },
  {
   "cell_type": "markdown",
   "id": "a148e1ad-5ce1-4fc8-858f-7b8a94dc0cae",
   "metadata": {
    "tags": []
   },
   "source": [
    "#### **Primary Goal:**  \n",
    "Develop an end-to-end pipeline that automates the ingestion, processing, analysis, and reporting of sales data. \n",
    "\n",
    "- **Ingestion**\n",
    "- **Processing**\n",
    "- **Analysis**\n",
    "- **Reporting**\n",
    "\n",
    "#### **Project Scope:** \n",
    "- Utilize Python scripts to manage data workflows \n",
    "- Generate reports to summarize data insights \n",
    "\n",
    "#### **Project File Structure**\n",
    "\n",
    "- **data/:** Contains raw and processed data files.\n",
    "- **scripts/:** Python scripts for data ingestion, processing, analysis, and reporting.\n",
    "- **reports/:** Generated analysis reports.\n",
    "- **tests/:** Unit tests for each script.\n",
    "- **Root Files:** .gitignore, README.md, requirements.txt"
   ]
  },
  {
   "cell_type": "code",
   "execution_count": 1,
   "id": "62feafad-6923-4597-a540-030690bbe9e0",
   "metadata": {
    "tags": []
   },
   "outputs": [
    {
     "data": {
      "text/plain": [
       "'\\nautomated_pipeline_project/\\n│── data/\\n│   ├── raw/\\n│   │   ├── sales_data.csv\\n│   ├── processed/\\n│   │   ├── cleaned_sales_data.csv\\n│   ├── README.md\\n│── scripts/\\n│   ├── ingest_data.py\\n│   ├── process_data.py\\n│   ├── analyze_data.py\\n│   ├── generate_report.py\\n│── reports/\\n│   ├── analysis_report.txt\\n│── tests/\\n│   ├── test_ingest_data.py\\n│   ├── test_process_data.py\\n│   ├── test_analyze_data.py\\n│── .gitignore\\n│── README.md\\n│── requirements.txt\\n│── LICENSE\\n\\n'"
      ]
     },
     "execution_count": 1,
     "metadata": {},
     "output_type": "execute_result"
    }
   ],
   "source": [
    "\"\"\"\n",
    "automated_pipeline_project/\n",
    "│── data/\n",
    "│   ├── raw/\n",
    "│   │   ├── sales_data.csv\n",
    "│   ├── processed/\n",
    "│   │   ├── cleaned_sales_data.csv\n",
    "│   ├── README.md\n",
    "│── scripts/\n",
    "│   ├── ingest_data.py\n",
    "│   ├── process_data.py\n",
    "│   ├── analyze_data.py\n",
    "│   ├── generate_report.py\n",
    "│── reports/\n",
    "│   ├── analysis_report.txt\n",
    "│── tests/\n",
    "│   ├── test_ingest_data.py\n",
    "│   ├── test_process_data.py\n",
    "│   ├── test_analyze_data.py\n",
    "│── .gitignore\n",
    "│── README.md\n",
    "│── requirements.txt\n",
    "│── LICENSE\n",
    "\n",
    "\"\"\""
   ]
  },
  {
   "cell_type": "markdown",
   "id": "0d9ad2bf-4029-430b-b1a8-eb2f1e4a9a92",
   "metadata": {},
   "source": [
    "### **1.  Data Ingestion**\n",
    "- **Script**: ingest_data.py\n",
    "- **Purpose:**\n",
    "    - Ingest raw sales data from **data/raw/** and copie it to **data/proccessed/** folder.\n",
    "- **Key Functions**\n",
    "    - **ingest_raw_data:** Handles copying of files"
   ]
  },
  {
   "cell_type": "markdown",
   "id": "3f7cef04-57ff-4b39-9fa2-a858be8bd77a",
   "metadata": {
    "tags": []
   },
   "source": [
    "### **2. Data Procesing**\n",
    "- **Script**:  process_data.py\n",
    "- **Purpose:**\n",
    "    - Cleans and preprocesses the ingested sales data.\n",
    "- **Key Functions:**\n",
    "    - **load_data:** Loads raw data into a DataFrame.\n",
    "    - **clean_data:** Handles missing values and removes duplicates \n",
    "    - **save_clean_data:** Saves the cleaned data\n",
    "- **Workflow:**\n",
    "    - Load raw data\n",
    "    - Clean data after removing incomplete and duplicate records\n",
    "    - Save Cleaned data for analysis "
   ]
  },
  {
   "cell_type": "markdown",
   "id": "e17cf546-08b0-4ebb-a373-7effcbe2dc0f",
   "metadata": {},
   "source": [
    "### **3. Data Analysis**\n",
    "- **Script**:  analyze_data.py\n",
    "- **Purpose:**\n",
    "    - Perform analysis on the cleaned sales data to genereate insights\n",
    "- **Key Functions:**\n",
    "    - **calculate_summary_statistics:** Compute totals and average \n",
    "    - **sales_by_category:** Aggreates sales by product category \n",
    "    - **montly_trends:** Analyzes revenue and trends over months\n",
    "    - **generates_insights:** Orchestarate the analysis process\n",
    "- **Workflow:**\n",
    "    - Load cleaned data\n",
    "    - Perform arious statistical analysis\n",
    "    - Compile insights for reporting\n"
   ]
  },
  {
   "cell_type": "markdown",
   "id": "ec1dfb3d-6d1d-428f-b11a-b861e0abce8f",
   "metadata": {},
   "source": [
    "### **4. Generate Report**\n",
    "- **Script**:  generate_report.py\n",
    "- **Purpose:**\n",
    "    - Generate a report comprehensive textual report summariging the analysis.\n",
    "- **Key Functions:**\n",
    "    - **create_reports_dir:** Ensures the **reports/** directory exists.\n",
    "    - **format_summary_statistics:** Formats summary statistics.\n",
    "    - **format_sales_by_category:** Formats sales by category\n",
    "    - **format_montly_trends:** Formats monthly trends\n",
    "    - **generate_text_report:** Comiles and saves report to text file. \n",
    "- **Workflow:**\n",
    "    - Fetch insights from **analyze_data.py**\n",
    "    - Format the insights into readable sections. \n",
    "    - Save the report to the **reports/** directory "
   ]
  },
  {
   "cell_type": "markdown",
   "id": "e276b54b-5e95-4a17-913c-dd8c95418323",
   "metadata": {},
   "source": [
    "# Script Execution Order\n",
    "- python scripts/ingest_data.py\n",
    "- python scripts/process_data.py\n",
    "- python scrpts/analyze_data.py\n",
    "- python scrpts/generate_reporty.py"
   ]
  },
  {
   "cell_type": "code",
   "execution_count": null,
   "id": "18506058-549c-48bf-ac07-6479acecabe9",
   "metadata": {},
   "outputs": [],
   "source": []
  }
 ],
 "metadata": {
  "kernelspec": {
   "display_name": "Python 3 (ipykernel)",
   "language": "python",
   "name": "python3"
  },
  "language_info": {
   "codemirror_mode": {
    "name": "ipython",
    "version": 3
   },
   "file_extension": ".py",
   "mimetype": "text/x-python",
   "name": "python",
   "nbconvert_exporter": "python",
   "pygments_lexer": "ipython3",
   "version": "3.11.4"
  }
 },
 "nbformat": 4,
 "nbformat_minor": 5
}
