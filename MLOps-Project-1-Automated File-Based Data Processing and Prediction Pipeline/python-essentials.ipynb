{
 "cells": [
  {
   "cell_type": "markdown",
   "id": "f8b058b9-ac02-4efa-8b89-fa9c3eb5bcc1",
   "metadata": {},
   "source": [
    "# Python Essentails"
   ]
  },
  {
   "cell_type": "code",
   "execution_count": null,
   "id": "bad49d04-dab1-4dfc-b95d-ea0d0e1a3076",
   "metadata": {},
   "outputs": [],
   "source": [
    "print(\"hello world\")"
   ]
  },
  {
   "cell_type": "code",
   "execution_count": null,
   "id": "e3adb831-1f41-49a2-83f1-f1a5114cfc8d",
   "metadata": {},
   "outputs": [],
   "source": [
    "# shift + enter --> to execute the current cell and go to next cell (if there is no cell, create a new one)\n",
    "# escape - enter the command mode\n",
    "# enter - enter the edit mode\n",
    " \n",
    "# command mode\n",
    "# b --> to insert a new cell below the current cell\n",
    "# a --> to inset a new cell above the current cell\n",
    "# d+d --> to delete a cell\n",
    "# m --> convert the code cell to markdown cell\n",
    "# y --> convert the markdown cell back to code cell"
   ]
  },
  {
   "cell_type": "markdown",
   "id": "b3e8bfe6-8601-4f3d-86af-e2cc620a981a",
   "metadata": {},
   "source": [
    "## Heading 2\n",
    "### HEADING 3\n",
    "#### Heading 4\n",
    "\n",
    "Text\n",
    "\n",
    "- points\n",
    "- point 2\n",
    "- pont 3"
   ]
  },
  {
   "cell_type": "code",
   "execution_count": null,
   "id": "6f4505d0-d5b2-4dc4-9c2b-34260390e021",
   "metadata": {},
   "outputs": [],
   "source": [
    "# Rename the notebook\n",
    "# practice keyboard shortcuts\n",
    "# explore code and markdown cell "
   ]
  },
  {
   "cell_type": "markdown",
   "id": "911fdd1d-059f-45b1-9ae5-c1a61ad32f9f",
   "metadata": {},
   "source": [
    "# Variables in Python Programming"
   ]
  },
  {
   "cell_type": "code",
   "execution_count": null,
   "id": "eab675db-37a1-46c9-8648-3184ac393077",
   "metadata": {},
   "outputs": [],
   "source": [
    "x = 100"
   ]
  },
  {
   "cell_type": "code",
   "execution_count": null,
   "id": "fbd8f87b-19d3-415b-a6ab-f93d158a3844",
   "metadata": {},
   "outputs": [],
   "source": [
    "print(type(x))"
   ]
  },
  {
   "cell_type": "code",
   "execution_count": null,
   "id": "f61d0215-e67e-4ed0-a3eb-45ec7babb9ca",
   "metadata": {},
   "outputs": [],
   "source": [
    "# Rules of variable\n",
    "# case sensitive\n",
    "x = 10\n",
    "X = 99\n",
    "print(x)\n",
    "print(X)"
   ]
  },
  {
   "cell_type": "code",
   "execution_count": null,
   "id": "ce29c46d-17b2-4a6a-b9d9-8830f754733b",
   "metadata": {},
   "outputs": [],
   "source": [
    "x_123 = 500\n",
    "print(x_123)"
   ]
  },
  {
   "cell_type": "code",
   "execution_count": null,
   "id": "92b82e47-ff4d-406c-bd58-5036c6be4b67",
   "metadata": {},
   "outputs": [],
   "source": [
    "1x = 200"
   ]
  },
  {
   "cell_type": "code",
   "execution_count": null,
   "id": "3cd7384e-bbe7-49a4-9816-ebdf7d979af3",
   "metadata": {},
   "outputs": [],
   "source": [
    "_x = 500\n",
    "print(_x)"
   ]
  },
  {
   "cell_type": "code",
   "execution_count": null,
   "id": "767d8f1c-7884-4c3b-a350-510f730461c3",
   "metadata": {},
   "outputs": [],
   "source": [
    "# Keywords --> already has a pre-defined meaning\n",
    "import keyword\n",
    "print(keyword.kwlist)"
   ]
  },
  {
   "cell_type": "code",
   "execution_count": null,
   "id": "611c0050-a8e8-400f-9b51-4b185ab3f7c9",
   "metadata": {},
   "outputs": [],
   "source": [
    "def = 99"
   ]
  },
  {
   "cell_type": "code",
   "execution_count": null,
   "id": "2ac7a6e7-edde-4e7e-a99a-8c9e220e9eb1",
   "metadata": {},
   "outputs": [],
   "source": [
    "# DevOps\n",
    "db_host = \"localhost\"\n",
    "db_user = \"admin\"\n",
    "app_port = 8080\n",
    "db_password = 'password123'"
   ]
  },
  {
   "cell_type": "code",
   "execution_count": null,
   "id": "0d57bc01-19b2-41ca-bc88-9953d80da25a",
   "metadata": {},
   "outputs": [],
   "source": [
    "#MLOps AIOps\n",
    "learning_rate = 0.001\n",
    "batch_size = 8\n",
    "num_epochs = 10"
   ]
  },
  {
   "cell_type": "code",
   "execution_count": null,
   "id": "7b668736-425e-4a02-9e72-905699370fe2",
   "metadata": {},
   "outputs": [],
   "source": [
    "print(type(db_host))"
   ]
  },
  {
   "cell_type": "code",
   "execution_count": null,
   "id": "e14fe70f-9c19-4a42-a543-2ca7ef44de72",
   "metadata": {},
   "outputs": [],
   "source": [
    "print(type(db_password))"
   ]
  },
  {
   "cell_type": "code",
   "execution_count": null,
   "id": "d6a55e76-b64b-4498-8a54-68a9d33ffe10",
   "metadata": {},
   "outputs": [],
   "source": [
    "print(type(learning_rate))"
   ]
  },
  {
   "cell_type": "code",
   "execution_count": null,
   "id": "87239ab5-017c-49e0-b384-1f4d3d5864f1",
   "metadata": {},
   "outputs": [],
   "source": [
    "is_prod = True\n",
    "print(type(is_prod))"
   ]
  },
  {
   "cell_type": "code",
   "execution_count": null,
   "id": "a8bc0806-e73b-4bd3-8436-a029f1aee741",
   "metadata": {},
   "outputs": [],
   "source": [
    "is_dev = False\n",
    "print(type(is_dev))"
   ]
  },
  {
   "cell_type": "code",
   "execution_count": null,
   "id": "17a22076-37ba-4ba7-af7a-bafe8a976569",
   "metadata": {},
   "outputs": [],
   "source": [
    "# Python list\n",
    "# consists of collection of elements enclosed within square brackets\n",
    "# can contain the elements from any data type\n",
    "l1 = [10,20, \"hello\", 25.52, True]\n",
    "print(type(l1))\n",
    "print(l1)"
   ]
  },
  {
   "cell_type": "code",
   "execution_count": null,
   "id": "8c6e9343-3b4a-405f-b525-e744ac8a5a7b",
   "metadata": {},
   "outputs": [],
   "source": [
    "model_1 = [\"logisticregression\", 0.05,0.95] # example from mlops"
   ]
  },
  {
   "cell_type": "code",
   "execution_count": null,
   "id": "043eb80f-dd70-4ec5-b3c1-74de448f150d",
   "metadata": {},
   "outputs": [],
   "source": [
    "# Python tuple\n",
    "# consists of collection of elements enclosed within round brackets\n",
    "# can contain the elements from any data type"
   ]
  },
  {
   "cell_type": "code",
   "execution_count": null,
   "id": "cccd6735-6690-46a2-851a-0da3a2dc3ba0",
   "metadata": {},
   "outputs": [],
   "source": [
    "t1 =(10,20, \"hello\", 25.52, True)\n",
    "print(type(t1))\n",
    "print(t1)"
   ]
  },
  {
   "cell_type": "code",
   "execution_count": null,
   "id": "3bf59e33-2978-41ba-afe3-4d624fca6c18",
   "metadata": {},
   "outputs": [],
   "source": [
    "# Python dict\n",
    "# consisting of key value pairs\n",
    "d1 = {\"name\": \"Nachiketh\", \"role\":\"instructor\", \"exp\":10}\n",
    "print(type(d1))\n",
    "print(d1)"
   ]
  },
  {
   "cell_type": "code",
   "execution_count": null,
   "id": "1857257b-febb-4dfa-8314-3122dfda4581",
   "metadata": {},
   "outputs": [],
   "source": [
    "x = 10 # assign the value 10 to x"
   ]
  },
  {
   "cell_type": "code",
   "execution_count": null,
   "id": "e1da5b1b-16e2-4fa2-a553-563e94014f38",
   "metadata": {},
   "outputs": [],
   "source": [
    "x = \"\"\" hello welcome\n",
    "to\n",
    "data science\n",
    "python\"\"\""
   ]
  },
  {
   "cell_type": "code",
   "execution_count": null,
   "id": "b75b719e-346f-49d7-9828-b1a90629f97d",
   "metadata": {},
   "outputs": [],
   "source": [
    "print(type(x))"
   ]
  },
  {
   "cell_type": "code",
   "execution_count": null,
   "id": "11f2ee97-0c7a-416a-875d-7af6274130e1",
   "metadata": {},
   "outputs": [],
   "source": [
    "\"\"\" line 1\n",
    "line 2\n",
    "line 3 \"\"\" \n",
    "\n",
    "x = 20"
   ]
  },
  {
   "cell_type": "code",
   "execution_count": null,
   "id": "1b018ca0-1776-40d5-bd39-608a5a232e22",
   "metadata": {},
   "outputs": [],
   "source": [
    "#method 2\n",
    "\n",
    "''' This is\n",
    "an\n",
    "example\n",
    "multi\n",
    "line comment'''\n",
    "x = 20\n",
    "print(x)"
   ]
  },
  {
   "cell_type": "code",
   "execution_count": null,
   "id": "22cdbf01-cc0c-4dce-bf51-67b604706c34",
   "metadata": {},
   "outputs": [],
   "source": [
    "y = ''' This is\n",
    "an\n",
    "example\n",
    "multi\n",
    "line comment'''"
   ]
  },
  {
   "cell_type": "code",
   "execution_count": null,
   "id": "a55f10c3-98e0-498c-b67a-599a568043f2",
   "metadata": {},
   "outputs": [],
   "source": [
    "print(type(y))"
   ]
  },
  {
   "cell_type": "markdown",
   "id": "bddd8334-13b6-42f0-bb0a-a80793e88440",
   "metadata": {},
   "source": [
    "# Operators in Python"
   ]
  },
  {
   "cell_type": "markdown",
   "id": "b51925c7-0bca-493b-8bb5-81c1170a0248",
   "metadata": {},
   "source": [
    "### Arithmetic Operators"
   ]
  },
  {
   "cell_type": "code",
   "execution_count": null,
   "id": "06dcf86f-ef13-48e9-85ad-72c4ce22803c",
   "metadata": {},
   "outputs": [],
   "source": [
    "# Arithmetic Operators\n",
    "a = 10\n",
    "b = 5\n",
    "\n",
    "addition = a + b\n",
    "print(addition)"
   ]
  },
  {
   "cell_type": "code",
   "execution_count": null,
   "id": "50db9bb7-1bb9-4fb3-9b8d-78246ff7bc2a",
   "metadata": {},
   "outputs": [],
   "source": [
    "subtraction = a - b\n",
    "print(subtraction)"
   ]
  },
  {
   "cell_type": "code",
   "execution_count": null,
   "id": "a5b4b482-8a5b-4233-af8b-f468f33010df",
   "metadata": {},
   "outputs": [],
   "source": [
    "mulitiply = a * b\n",
    "print(mulitiply)"
   ]
  },
  {
   "cell_type": "code",
   "execution_count": null,
   "id": "f42782a8-752f-4f6c-9b9c-47a3ee76a1b3",
   "metadata": {},
   "outputs": [],
   "source": [
    "div = a/b\n",
    "print(div) # float"
   ]
  },
  {
   "cell_type": "code",
   "execution_count": null,
   "id": "4bf9c3b8-0cc1-472a-b990-8a0dc3a653b5",
   "metadata": {},
   "outputs": [],
   "source": [
    "exp = a**b\n",
    "print(exp)"
   ]
  },
  {
   "cell_type": "code",
   "execution_count": null,
   "id": "e7a1e385-30aa-4480-8fcf-5eeb141eefe4",
   "metadata": {},
   "outputs": [],
   "source": [
    "mod = a%b\n",
    "print(mod) # 10/5 --> return remainder"
   ]
  },
  {
   "cell_type": "code",
   "execution_count": null,
   "id": "59fc58db-0185-462f-b694-67a323dd540a",
   "metadata": {},
   "outputs": [],
   "source": [
    "# Floor division -->return integer\n",
    "floor = a//b\n",
    "print(floor) # int"
   ]
  },
  {
   "cell_type": "markdown",
   "id": "4cf0ea8b-1757-4368-8a87-be8d01319177",
   "metadata": {},
   "source": [
    "### Assignent Operators"
   ]
  },
  {
   "cell_type": "code",
   "execution_count": null,
   "id": "3b3e52c7-a1fa-4d34-8ef2-f989cb62822f",
   "metadata": {},
   "outputs": [],
   "source": [
    "x = 5 # assignment of value\n",
    "print(x)"
   ]
  },
  {
   "cell_type": "code",
   "execution_count": null,
   "id": "1662724b-9dc9-4f30-94c9-a3b53b12293c",
   "metadata": {},
   "outputs": [],
   "source": [
    "# add and assign\n",
    "x += 3 # x = x+3\n",
    "print(x)"
   ]
  },
  {
   "cell_type": "code",
   "execution_count": null,
   "id": "cb9fb22f-746f-483f-a1bf-f43820b2b8ab",
   "metadata": {},
   "outputs": [],
   "source": [
    "# subtract and assign\n",
    "x -= 2\n",
    "print(x)"
   ]
  },
  {
   "cell_type": "code",
   "execution_count": null,
   "id": "4d363219-0b77-4644-887d-3180dac5aa5d",
   "metadata": {},
   "outputs": [],
   "source": [
    "# multiply and assign\n",
    "x *= 2\n",
    "print(x)"
   ]
  },
  {
   "cell_type": "code",
   "execution_count": null,
   "id": "1ffaaac1-dfd0-4013-ae0e-41dce4e2d556",
   "metadata": {},
   "outputs": [],
   "source": [
    "# divide and assign\n",
    "x /= 3\n",
    "print(x)"
   ]
  },
  {
   "cell_type": "markdown",
   "id": "fac76386-d08a-4156-b87a-013c79923f18",
   "metadata": {},
   "source": [
    "### Comparison Opreators"
   ]
  },
  {
   "cell_type": "code",
   "execution_count": null,
   "id": "fa0c92c3-9289-4531-a569-ff5cb5109212",
   "metadata": {},
   "outputs": [],
   "source": [
    "a  = 10\n",
    "b = 5\n",
    "print(a==b) # equal to"
   ]
  },
  {
   "cell_type": "code",
   "execution_count": null,
   "id": "66e7e3a4-b621-43b1-b070-7cb8037926e5",
   "metadata": {},
   "outputs": [],
   "source": [
    "print(a!=b) # not equal"
   ]
  },
  {
   "cell_type": "code",
   "execution_count": null,
   "id": "29ccfa23-dad4-47c6-8702-4f72dc274651",
   "metadata": {},
   "outputs": [],
   "source": [
    "print(a>b) # greater than"
   ]
  },
  {
   "cell_type": "code",
   "execution_count": null,
   "id": "bacbedbc-2f94-4ba1-82a1-eac3f6c0cd94",
   "metadata": {},
   "outputs": [],
   "source": [
    "print(a<b) # lesser than"
   ]
  },
  {
   "cell_type": "code",
   "execution_count": null,
   "id": "f90a3680-c152-4855-aa07-035cb4dd1b13",
   "metadata": {},
   "outputs": [],
   "source": [
    "print(a>=b) # greater than or equal to"
   ]
  },
  {
   "cell_type": "code",
   "execution_count": null,
   "id": "c3f00cd0-c3d3-4e67-a5d9-fdaf3301c6da",
   "metadata": {},
   "outputs": [],
   "source": [
    "print(a<=b) # less than or equal to"
   ]
  },
  {
   "cell_type": "markdown",
   "id": "589939ba-4f1a-4d83-946a-c9013a79b463",
   "metadata": {},
   "source": [
    "### Logical Operators"
   ]
  },
  {
   "cell_type": "code",
   "execution_count": null,
   "id": "07cbac2e-43f9-43b7-b899-33fe87925440",
   "metadata": {},
   "outputs": [],
   "source": [
    "x = True\n",
    "y = True\n",
    "z = False"
   ]
  },
  {
   "cell_type": "code",
   "execution_count": null,
   "id": "ce1117ba-ae4a-407e-a7fd-8fcd323dc502",
   "metadata": {},
   "outputs": [],
   "source": [
    "# logical and\n",
    "print(x and y)"
   ]
  },
  {
   "cell_type": "code",
   "execution_count": null,
   "id": "592708c5-e364-49d2-a2f5-b40c0d7c60fe",
   "metadata": {},
   "outputs": [],
   "source": [
    "print(x and z)"
   ]
  },
  {
   "cell_type": "code",
   "execution_count": null,
   "id": "0e1ecb0d-930c-4e72-b9e4-7e8ce8b6d874",
   "metadata": {},
   "outputs": [],
   "source": [
    "print(z and z)"
   ]
  },
  {
   "cell_type": "code",
   "execution_count": null,
   "id": "9e05878c-048d-4ba7-a4f7-ff8aab979598",
   "metadata": {},
   "outputs": [],
   "source": [
    "#  Logical or\n",
    "print(x or y)"
   ]
  },
  {
   "cell_type": "code",
   "execution_count": null,
   "id": "91cb51f3-720b-47f1-8291-6bb4deb4d50a",
   "metadata": {},
   "outputs": [],
   "source": [
    "print(x or z)"
   ]
  },
  {
   "cell_type": "code",
   "execution_count": null,
   "id": "0738d5c1-853d-4939-a53a-869053a4f749",
   "metadata": {},
   "outputs": [],
   "source": [
    "print(z or z)"
   ]
  },
  {
   "cell_type": "code",
   "execution_count": null,
   "id": "03f1821c-93fb-4675-a507-09af3bc23945",
   "metadata": {},
   "outputs": [],
   "source": [
    "# Logical not\n",
    "# unary operator\n",
    "print(not x)"
   ]
  },
  {
   "cell_type": "code",
   "execution_count": null,
   "id": "43aad09e-3207-4eec-aa46-a91d5fd04394",
   "metadata": {},
   "outputs": [],
   "source": [
    "print(not z)"
   ]
  },
  {
   "cell_type": "markdown",
   "id": "de2b16a3-b5ff-4715-9492-dd156235f3aa",
   "metadata": {},
   "source": [
    "### Bitwise Operators"
   ]
  },
  {
   "cell_type": "code",
   "execution_count": null,
   "id": "c680fb47-60f3-41d2-9926-b1d128215a3f",
   "metadata": {},
   "outputs": [],
   "source": [
    "a = 5\n",
    "b = 3\n",
    "\n",
    "# and\n",
    "print(a & b) "
   ]
  },
  {
   "cell_type": "code",
   "execution_count": null,
   "id": "1a29ea25-6aa4-4b54-9bca-bbd6b65f0048",
   "metadata": {},
   "outputs": [],
   "source": [
    "print(a | b)   # or"
   ]
  },
  {
   "cell_type": "code",
   "execution_count": null,
   "id": "e2073787-0653-4873-8e15-82602b2f6545",
   "metadata": {},
   "outputs": [],
   "source": [
    "print(a^b) # bitwise XOR"
   ]
  },
  {
   "cell_type": "code",
   "execution_count": null,
   "id": "283def00-6f6b-422a-bbb5-008b0cf6e5ce",
   "metadata": {},
   "outputs": [],
   "source": [
    "print(~a) # bitwise not"
   ]
  },
  {
   "cell_type": "markdown",
   "id": "aa69671c-c01c-4b65-a618-c8c1bd700dd0",
   "metadata": {},
   "source": [
    "### Membership Operators"
   ]
  },
  {
   "cell_type": "code",
   "execution_count": null,
   "id": "338163dd-75e0-448f-8a47-0fe16ff4a201",
   "metadata": {},
   "outputs": [],
   "source": [
    "l1 = [1,2,3,4,5,6]\n",
    "#in\n",
    "print(3 in l1)"
   ]
  },
  {
   "cell_type": "code",
   "execution_count": null,
   "id": "ccd1094b-b0fa-4108-8604-820fc6a2fb49",
   "metadata": {},
   "outputs": [],
   "source": [
    "print(10 in l1)"
   ]
  },
  {
   "cell_type": "code",
   "execution_count": null,
   "id": "6145ff4b-cca1-4bd3-a385-bd414d487c7d",
   "metadata": {},
   "outputs": [],
   "source": [
    "# not in\n",
    "print(3 not in l1)"
   ]
  },
  {
   "cell_type": "code",
   "execution_count": null,
   "id": "63f02a25-40a5-4bf2-a452-2ac627a867c3",
   "metadata": {},
   "outputs": [],
   "source": [
    "print(10 not in l1)"
   ]
  },
  {
   "cell_type": "markdown",
   "id": "590ea059-9bca-4950-9785-ab05f7b9156a",
   "metadata": {},
   "source": [
    "### Identity Operators"
   ]
  },
  {
   "cell_type": "code",
   "execution_count": null,
   "id": "48c036b5-87c9-43ba-ab13-e5a0d6372cae",
   "metadata": {},
   "outputs": [],
   "source": [
    "a = [1,2,3]\n",
    "b = a\n",
    "c = [1,2,3]\n",
    "\n",
    "print(a is b)"
   ]
  },
  {
   "cell_type": "code",
   "execution_count": null,
   "id": "cceb18d5-6eb7-4bf6-b3f7-c7c7a62e4870",
   "metadata": {},
   "outputs": [],
   "source": [
    "print(a is c)"
   ]
  },
  {
   "cell_type": "code",
   "execution_count": null,
   "id": "2366cdc7-af31-4336-90e0-b3e4952e9287",
   "metadata": {},
   "outputs": [],
   "source": [
    "print(id(a), id(b), id(c))"
   ]
  },
  {
   "cell_type": "markdown",
   "id": "9a31f6d9-8820-4d81-b557-b8387010ab09",
   "metadata": {},
   "source": [
    "### MLOps /DevOps Context with Operators"
   ]
  },
  {
   "cell_type": "code",
   "execution_count": null,
   "id": "86902d0c-e89b-4e23-a31a-fca73fd5d2fa",
   "metadata": {},
   "outputs": [],
   "source": [
    "num_records = 1000\n",
    "batch_size = 64\n",
    "\n",
    "num_batches = num_records // batch_size\n",
    "print(\"Number of batches needed:\", num_batches) # calcualte the number of batches for processing"
   ]
  },
  {
   "cell_type": "code",
   "execution_count": null,
   "id": "fd1e5dcc-0e37-4279-83de-5a3127c83511",
   "metadata": {},
   "outputs": [],
   "source": [
    "# Calculate the remaining records after processing in batches\n",
    "remaining_records = num_records % batch_size\n",
    "print(\"Remaining records after processing in batches:\", remaining_records)"
   ]
  },
  {
   "cell_type": "code",
   "execution_count": null,
   "id": "36a09f05-2aef-44ec-9729-e1b04346df05",
   "metadata": {},
   "outputs": [],
   "source": [
    "# Assignment Operators\n",
    "# MLOps Variable Example for Assignment Operators\n",
    "learning_rate = 0.001\n",
    "epochs = 10\n",
    "\n",
    "# Adjust learning rate based on epochs\n",
    "learning_rate *= (1 / (epochs * 0.1))\n",
    "print(\"Adjusted learning rate:\", learning_rate)"
   ]
  },
  {
   "cell_type": "code",
   "execution_count": null,
   "id": "b094cc0a-cabf-4177-a666-a2ea5c898ead",
   "metadata": {},
   "outputs": [],
   "source": [
    "# Comparision Operators\n",
    "# MLOps Variable Example for Comparison Operators\n",
    "accuracy_threshold = 0.95\n",
    "validation_accuracy = 0.98\n",
    "\n",
    "# Check if validation accuracy meets the threshold\n",
    "is_accurate = validation_accuracy >= accuracy_threshold\n",
    "print(\"Model accuracy meets threshold:\", is_accurate)"
   ]
  },
  {
   "cell_type": "code",
   "execution_count": null,
   "id": "0206620e-2c91-4e08-97da-87b800100924",
   "metadata": {},
   "outputs": [],
   "source": [
    "total_servers = 10\n",
    "servers_deployed = 7\n",
    "\n",
    "# Calculate the number of servers yet to be deployed\n",
    "servers_remaining = total_servers - servers_deployed\n",
    "print(\"Servers remaining to be deployed:\", servers_remaining)"
   ]
  },
  {
   "cell_type": "code",
   "execution_count": null,
   "id": "5e4ecbba-f3ad-4fc8-8faa-73ef9e9cd99f",
   "metadata": {},
   "outputs": [],
   "source": [
    "# DevOps Variable Example for Assignment Operators\n",
    "deployment_count = 0\n",
    "\n",
    "# Increment deployment count\n",
    "deployment_count += 1\n",
    "print(\"Deployment count:\", deployment_count)\n",
    "\n",
    "# Decrement deployment count\n",
    "deployment_count -= 1\n",
    "print(\"Deployment count after rollback:\", deployment_count)"
   ]
  },
  {
   "cell_type": "code",
   "execution_count": null,
   "id": "fe108856-b8bc-450c-8c37-572bebba79a5",
   "metadata": {},
   "outputs": [],
   "source": [
    "#  Logical Operators\n",
    "is_trained = True\n",
    "is_validated = False\n",
    "\n",
    "# Check if model is trained and validated\n",
    "is_deployable = is_trained and is_validated\n",
    "print(\"Model is deployable:\", is_deployable)"
   ]
  },
  {
   "cell_type": "code",
   "execution_count": null,
   "id": "789409e7-7c82-4ec1-9b54-f033b20d60d0",
   "metadata": {},
   "outputs": [],
   "source": [
    "# Membership Oprators\n",
    "\n",
    "supported_frameworks = [\"TensorFlow\", \"PyTorch\", \"scikit-learn\"]\n",
    "framework = \"TensorFlow\"\n",
    "\n",
    "# Check if a framework is supported\n",
    "is_supported = framework in supported_frameworks\n",
    "print(\"Is framework supported:\", is_supported)"
   ]
  },
  {
   "cell_type": "code",
   "execution_count": null,
   "id": "94d27479-e4f4-4724-bb84-dae9b68c0a9c",
   "metadata": {},
   "outputs": [],
   "source": [
    "# DevOps Variable Example for Membership Operators\n",
    "allowed_users = [\"user1\", \"user2\", \"user3\"]\n",
    "user = \"user2\"\n",
    "\n",
    "# Check if user is allowed\n",
    "is_allowed = user in allowed_users\n",
    "print(\"Is user allowed:\", is_allowed)\n"
   ]
  },
  {
   "cell_type": "code",
   "execution_count": null,
   "id": "34d2fcf8-8ed8-40c9-860b-04414d01d2f0",
   "metadata": {},
   "outputs": [],
   "source": [
    "# Identity Operators\n",
    "# MLOps Variable Example for Identity Operators\n",
    "model_a = [1, 2, 3]\n",
    "model_b = model_a\n",
    "model_c = [1, 2, 3]\n",
    "\n",
    "# Check if models are identical\n",
    "is_same_model = model_a is model_b\n",
    "print(\"Are model_a and model_b the same object:\", is_same_model)\n",
    "\n",
    "is_same_model = model_a is model_c\n",
    "print(\"Are model_a and model_c the same object:\", is_same_model)"
   ]
  },
  {
   "cell_type": "code",
   "execution_count": null,
   "id": "146a0298-bbd2-476b-8cd3-917ce9b2ddeb",
   "metadata": {},
   "outputs": [],
   "source": [
    "# DevOps Variable Example for Identity Operators\n",
    "server_a = {\"id\": 1, \"name\": \"server1\"}\n",
    "server_b = server_a\n",
    "server_c = {\"id\": 1, \"name\": \"server1\"}\n",
    "\n",
    "# Check if servers are identical\n",
    "is_same_server = server_a is server_b\n",
    "print(\"Are server_a and server_b the same object:\", is_same_server)\n",
    "\n",
    "is_same_server = server_a is server_c\n",
    "print(\"Are server_a and server_c the same object:\", is_same_server)"
   ]
  },
  {
   "cell_type": "markdown",
   "id": "43e2a13f-f692-46c0-a198-0699b4b95568",
   "metadata": {},
   "source": [
    "# Built-in Functions in Python"
   ]
  },
  {
   "cell_type": "code",
   "execution_count": null,
   "id": "d817d673-a108-4587-9e41-8988d809dca2",
   "metadata": {},
   "outputs": [],
   "source": [
    "# Numerical function \n",
    "x = -5.5\n",
    "\n",
    "a = abs(x)\n",
    "print(a)"
   ]
  },
  {
   "cell_type": "code",
   "execution_count": null,
   "id": "20df9737-cfb9-42a3-9daf-efb6462c6282",
   "metadata": {},
   "outputs": [],
   "source": [
    "l1 = [1,2,3,4,5]\n",
    "print(max(l1))"
   ]
  },
  {
   "cell_type": "code",
   "execution_count": null,
   "id": "6729d991-9d63-47e1-8f50-fa83120790af",
   "metadata": {},
   "outputs": [],
   "source": [
    "l1 = [1,2,3,4,5]\n",
    "print(min(l1))"
   ]
  },
  {
   "cell_type": "code",
   "execution_count": null,
   "id": "06b7540f-dd0a-4941-8264-3c124078e0b1",
   "metadata": {},
   "outputs": [],
   "source": [
    "print(pow(5,6))"
   ]
  },
  {
   "cell_type": "code",
   "execution_count": null,
   "id": "18ad3646-ea6f-4413-8235-a0ea9d564ea2",
   "metadata": {},
   "outputs": [],
   "source": [
    "# round\n",
    "print(round(x))"
   ]
  },
  {
   "cell_type": "code",
   "execution_count": null,
   "id": "ffb3a2e0-1eb4-4b59-b526-d1138a191b33",
   "metadata": {},
   "outputs": [],
   "source": [
    "#String functions\n",
    "a = \"Hello World\"\n",
    "length = len(a)\n",
    "print(length)"
   ]
  },
  {
   "cell_type": "code",
   "execution_count": null,
   "id": "e5b8e62e-770e-40c0-9f07-885a461b3921",
   "metadata": {},
   "outputs": [],
   "source": [
    "print(a.upper())"
   ]
  },
  {
   "cell_type": "code",
   "execution_count": null,
   "id": "3a6dfd1b-ef6a-4012-b44f-c05663288525",
   "metadata": {},
   "outputs": [],
   "source": [
    "print(a.lower())"
   ]
  },
  {
   "cell_type": "code",
   "execution_count": null,
   "id": "f25a7250-774b-48b5-bfa9-ca7d2e634fd2",
   "metadata": {},
   "outputs": [],
   "source": [
    "print(a.split(\" \"))"
   ]
  },
  {
   "cell_type": "code",
   "execution_count": null,
   "id": "1348ef1b-4220-4951-8001-cce2601186fb",
   "metadata": {},
   "outputs": [],
   "source": [
    "# List Operations\n",
    "l1 = [1,2,3,4,5,6,7,8]"
   ]
  },
  {
   "cell_type": "code",
   "execution_count": null,
   "id": "034e30dd-787e-498b-a323-cf0fcc3e6909",
   "metadata": {},
   "outputs": [],
   "source": [
    "print(len(l1))"
   ]
  },
  {
   "cell_type": "code",
   "execution_count": null,
   "id": "3a631080-febe-4377-8940-77adfa32544b",
   "metadata": {},
   "outputs": [],
   "source": [
    "l1.append(99)\n",
    "print(l1)"
   ]
  },
  {
   "cell_type": "code",
   "execution_count": null,
   "id": "96bb1a6a-d7de-4927-b122-bbc152454d22",
   "metadata": {},
   "outputs": [],
   "source": [
    "l1.remove(1)\n",
    "print(l1)"
   ]
  },
  {
   "cell_type": "code",
   "execution_count": null,
   "id": "2dfe2480-58ca-4d74-8ea7-23e11686e068",
   "metadata": {},
   "outputs": [],
   "source": [
    "l2 = [1,50,20,99,25]\n",
    "l2.sort()\n",
    "print(l2)"
   ]
  },
  {
   "cell_type": "code",
   "execution_count": null,
   "id": "29c35b58-9078-4a4b-b918-0e0dc6d3be5c",
   "metadata": {},
   "outputs": [],
   "source": [
    "# Dictioary\n",
    "\n",
    "d = {'a':1 , 'b':2, 'c':3}\n",
    "print(len(d))"
   ]
  },
  {
   "cell_type": "code",
   "execution_count": null,
   "id": "72cfb475-9466-4ef0-873c-a51f16d44f02",
   "metadata": {},
   "outputs": [],
   "source": [
    "print(d.keys())"
   ]
  },
  {
   "cell_type": "code",
   "execution_count": null,
   "id": "e1767ce2-d57f-49b0-a503-6e67e39bf827",
   "metadata": {},
   "outputs": [],
   "source": [
    "print(d.values())"
   ]
  },
  {
   "cell_type": "code",
   "execution_count": null,
   "id": "a8d02c90-a45d-4a8c-9567-552e7aed5b8b",
   "metadata": {},
   "outputs": [],
   "source": [
    "print(d.items())"
   ]
  },
  {
   "cell_type": "code",
   "execution_count": null,
   "id": "4c12e96a-ac2c-4c65-a059-144f31dd767e",
   "metadata": {},
   "outputs": [],
   "source": [
    "# Type Conversion - Casting\n",
    "x = \"10\"\n",
    "print(type(x))"
   ]
  },
  {
   "cell_type": "code",
   "execution_count": null,
   "id": "97cb65f0-6297-4c96-a077-b61d8bf2fd40",
   "metadata": {},
   "outputs": [],
   "source": [
    "z = int(x)\n",
    "print(type(z))"
   ]
  },
  {
   "cell_type": "code",
   "execution_count": null,
   "id": "64b7bed9-c35e-4c02-b609-0361f5908974",
   "metadata": {},
   "outputs": [],
   "source": [
    "y = float(z)\n",
    "print(type(y),y)"
   ]
  },
  {
   "cell_type": "code",
   "execution_count": null,
   "id": "19f759d5-f9c4-484c-8d5b-04dd68b784dc",
   "metadata": {},
   "outputs": [],
   "source": [
    "x = \"abcdef\"\n",
    "y = list(x)\n",
    "print(y)"
   ]
  },
  {
   "cell_type": "code",
   "execution_count": null,
   "id": "5f59e8d6-30cf-4a07-90c2-0a5fa434fed9",
   "metadata": {},
   "outputs": [],
   "source": [
    "#input/output functions\n",
    "x = input(\"Please enter the value: \") # it will be read as a string\n",
    "print(type(x))\n",
    "print(x)\n",
    "x = int(x)\n",
    "x = 2*x\n",
    "print(\"output is\",x)"
   ]
  },
  {
   "cell_type": "code",
   "execution_count": null,
   "id": "1753be0f-554f-45dc-9785-c7e4824df372",
   "metadata": {},
   "outputs": [],
   "source": [
    "# misc functions\n",
    "\n",
    "x = range(5)\n",
    "print(x)"
   ]
  },
  {
   "cell_type": "code",
   "execution_count": null,
   "id": "8a970868-d61a-4650-8ebc-9996f823d733",
   "metadata": {},
   "outputs": [],
   "source": [
    "print(list(x))"
   ]
  },
  {
   "cell_type": "code",
   "execution_count": null,
   "id": "eefe349c-dc6e-4a5c-8cc8-5405ee035276",
   "metadata": {},
   "outputs": [],
   "source": [
    "x = range(1,5)\n",
    "print(list(x))"
   ]
  },
  {
   "cell_type": "code",
   "execution_count": null,
   "id": "cd7412af-254e-43e6-9392-7b47fc0ec4ad",
   "metadata": {},
   "outputs": [],
   "source": [
    "x = list(x)"
   ]
  },
  {
   "cell_type": "code",
   "execution_count": null,
   "id": "f0eef23e-39e8-4def-8732-937eeab15e52",
   "metadata": {},
   "outputs": [],
   "source": [
    "print(x)"
   ]
  },
  {
   "cell_type": "code",
   "execution_count": null,
   "id": "44fea914-e217-44d4-bec6-c19caf4d606f",
   "metadata": {},
   "outputs": [],
   "source": [
    "print(sum(x))"
   ]
  },
  {
   "cell_type": "code",
   "execution_count": null,
   "id": "5d075600-2d9d-46d2-b3b4-7ccd9a50f63b",
   "metadata": {},
   "outputs": [],
   "source": [
    "sorted(x)"
   ]
  },
  {
   "cell_type": "markdown",
   "id": "c3a51f66-ba09-487a-b570-aac8bc7df9ac",
   "metadata": {},
   "source": [
    "# Sequence Operations - Strings"
   ]
  },
  {
   "cell_type": "code",
   "execution_count": null,
   "id": "14f751ff-04a3-4f9a-b0b2-13d761af3a05",
   "metadata": {},
   "outputs": [],
   "source": [
    "x = \"hello world!!\""
   ]
  },
  {
   "cell_type": "code",
   "execution_count": null,
   "id": "b48b5037-2d72-473e-8796-94f09aa0b243",
   "metadata": {},
   "outputs": [],
   "source": [
    "x"
   ]
  },
  {
   "cell_type": "code",
   "execution_count": null,
   "id": "4dfa2a96-cfd4-41d0-9fcd-b6548482d733",
   "metadata": {},
   "outputs": [],
   "source": [
    "len(x)"
   ]
  },
  {
   "cell_type": "code",
   "execution_count": null,
   "id": "dc2507df-cde7-4ea3-9284-9c98160119f5",
   "metadata": {},
   "outputs": [],
   "source": [
    "# indexing\n",
    "# starts from 0\n",
    "x[0]"
   ]
  },
  {
   "cell_type": "code",
   "execution_count": null,
   "id": "21949dd7-b600-4f30-8399-1c0548f417f6",
   "metadata": {},
   "outputs": [],
   "source": [
    "x[5]"
   ]
  },
  {
   "cell_type": "code",
   "execution_count": null,
   "id": "2c8db9f6-e7b0-46ca-abd8-205d5b703534",
   "metadata": {},
   "outputs": [],
   "source": [
    "x[6]"
   ]
  },
  {
   "cell_type": "code",
   "execution_count": null,
   "id": "0161320c-bf75-4e0e-b887-a5b23975a38f",
   "metadata": {},
   "outputs": [],
   "source": [
    "# slicing\n",
    "# return the subset\n",
    "# [start:stop] --> start is included, and stop is excluded\n",
    "x[2:5]"
   ]
  },
  {
   "cell_type": "code",
   "execution_count": null,
   "id": "33988898-485a-4d96-a3c5-be6f89b35771",
   "metadata": {},
   "outputs": [],
   "source": [
    "x[3:7]"
   ]
  },
  {
   "cell_type": "code",
   "execution_count": null,
   "id": "f71a42fc-35bd-4408-967a-4d01ede098bf",
   "metadata": {},
   "outputs": [],
   "source": [
    "x"
   ]
  },
  {
   "cell_type": "code",
   "execution_count": null,
   "id": "8ed7914c-7cae-49f2-a26b-71aa8380beb0",
   "metadata": {},
   "outputs": [],
   "source": [
    "x[0] = 'y' # immutable"
   ]
  },
  {
   "cell_type": "code",
   "execution_count": null,
   "id": "8219055d-b03a-4bb2-b3cc-8aefb5acbb6f",
   "metadata": {},
   "outputs": [],
   "source": [
    "a = 'hello'\n",
    "b = 'data science'"
   ]
  },
  {
   "cell_type": "code",
   "execution_count": null,
   "id": "e763e68e-c6fb-4aef-a4c0-ec620fc45b55",
   "metadata": {},
   "outputs": [],
   "source": [
    "a+b"
   ]
  },
  {
   "cell_type": "code",
   "execution_count": null,
   "id": "43a86e0f-cb79-4d4b-a641-fdbf875ef12f",
   "metadata": {},
   "outputs": [],
   "source": [
    "a*3"
   ]
  },
  {
   "cell_type": "code",
   "execution_count": null,
   "id": "92e8d51f-6152-45a6-ad7b-83494df6ca4a",
   "metadata": {},
   "outputs": [],
   "source": [
    "print(a)"
   ]
  },
  {
   "cell_type": "code",
   "execution_count": null,
   "id": "0fd347d0-4df1-4fae-a1cf-b84915fc21c7",
   "metadata": {},
   "outputs": [],
   "source": [
    "'e' in a"
   ]
  },
  {
   "cell_type": "code",
   "execution_count": null,
   "id": "85465e8c-1bbf-4967-bf8c-aa8432027b1c",
   "metadata": {},
   "outputs": [],
   "source": [
    "x = \"\"\"hello world\"\"\"\n",
    "y = '''data science'''"
   ]
  },
  {
   "cell_type": "markdown",
   "id": "e798c48e-0ea5-4a1e-a497-afc251189b81",
   "metadata": {},
   "source": [
    "# Sequences in Python - Lists"
   ]
  },
  {
   "cell_type": "code",
   "execution_count": null,
   "id": "849282be-fbe3-4c60-a01c-0f8ddbc8a163",
   "metadata": {},
   "outputs": [],
   "source": [
    "x = [1,23,4,5,6,7,8]"
   ]
  },
  {
   "cell_type": "code",
   "execution_count": null,
   "id": "b7d21a30-0cfc-4a76-920f-584ba1c4a392",
   "metadata": {},
   "outputs": [],
   "source": [
    "print(x)"
   ]
  },
  {
   "cell_type": "code",
   "execution_count": null,
   "id": "0ddbc08a-93b8-46e9-a745-88141baa6e35",
   "metadata": {},
   "outputs": [],
   "source": [
    "x[2]"
   ]
  },
  {
   "cell_type": "code",
   "execution_count": null,
   "id": "335430a9-bc6b-4ada-9ba5-75bab826b23e",
   "metadata": {},
   "outputs": [],
   "source": [
    "x[2:5]"
   ]
  },
  {
   "cell_type": "code",
   "execution_count": null,
   "id": "bc3a24ef-0e61-4522-8562-8c96c7b974d0",
   "metadata": {},
   "outputs": [],
   "source": [
    "5 in x"
   ]
  },
  {
   "cell_type": "code",
   "execution_count": null,
   "id": "3ccff53f-bfc3-4803-a4c0-99270447e4f4",
   "metadata": {},
   "outputs": [],
   "source": [
    "len(x)"
   ]
  },
  {
   "cell_type": "code",
   "execution_count": null,
   "id": "5837cb3f-67d4-4ac6-98ee-0621b4418007",
   "metadata": {},
   "outputs": [],
   "source": [
    "x + x"
   ]
  },
  {
   "cell_type": "code",
   "execution_count": null,
   "id": "e6a3b9ca-fdb5-4d28-af22-876d6c94fee3",
   "metadata": {},
   "outputs": [],
   "source": [
    "x * 3"
   ]
  },
  {
   "cell_type": "code",
   "execution_count": null,
   "id": "40aa0dc5-4469-4652-ac5a-95e70942f3e7",
   "metadata": {},
   "outputs": [],
   "source": [
    "x"
   ]
  },
  {
   "cell_type": "code",
   "execution_count": null,
   "id": "2f5f1648-df45-46dd-8c5f-63ad084663af",
   "metadata": {},
   "outputs": [],
   "source": [
    "x[2] = 99\n",
    "x"
   ]
  },
  {
   "cell_type": "code",
   "execution_count": null,
   "id": "df1e47fd-9a62-456b-a020-a28576b180bd",
   "metadata": {},
   "outputs": [],
   "source": [
    "x.pop(3)"
   ]
  },
  {
   "cell_type": "code",
   "execution_count": null,
   "id": "cf7b4a0b-086c-4e3e-b4e5-8866e1d476e0",
   "metadata": {},
   "outputs": [],
   "source": [
    "x"
   ]
  },
  {
   "cell_type": "markdown",
   "id": "92c824b3-acb7-4832-80bd-a4ee2a60bf73",
   "metadata": {},
   "source": [
    "# Sequences in Python - Tuples"
   ]
  },
  {
   "cell_type": "code",
   "execution_count": null,
   "id": "8bdc6f4e-03b0-4632-b44a-891865375590",
   "metadata": {},
   "outputs": [],
   "source": [
    "t1 = (1,2,3,4,56,7)\n",
    "t1"
   ]
  },
  {
   "cell_type": "code",
   "execution_count": null,
   "id": "f83d14b1-8a9f-449c-aea7-b929cd867ac7",
   "metadata": {},
   "outputs": [],
   "source": [
    "t1[0]"
   ]
  },
  {
   "cell_type": "code",
   "execution_count": null,
   "id": "fe7d2e28-808c-40d7-ba59-fdd46a007f8a",
   "metadata": {},
   "outputs": [],
   "source": [
    "t1[1:5]"
   ]
  },
  {
   "cell_type": "code",
   "execution_count": null,
   "id": "7d8b0818-9b81-4841-ac35-54229c84a380",
   "metadata": {},
   "outputs": [],
   "source": [
    "t1*2 # new tuple"
   ]
  },
  {
   "cell_type": "code",
   "execution_count": null,
   "id": "323ca5e4-64bf-4506-9553-c08c73aa732d",
   "metadata": {},
   "outputs": [],
   "source": [
    "t1+t1 # new tuple"
   ]
  },
  {
   "cell_type": "code",
   "execution_count": null,
   "id": "7dc343e6-d343-4dc6-9ae7-bda544f1c580",
   "metadata": {},
   "outputs": [],
   "source": [
    "# immutable\n",
    "t1[2] = 99"
   ]
  },
  {
   "cell_type": "code",
   "execution_count": null,
   "id": "f816145a-f157-48cc-b286-8cff02f29f0b",
   "metadata": {},
   "outputs": [],
   "source": [
    "len(t1)"
   ]
  },
  {
   "cell_type": "code",
   "execution_count": null,
   "id": "a36a8843-5266-4690-806f-8daa6a39d70b",
   "metadata": {},
   "outputs": [],
   "source": [
    "10 in t1"
   ]
  },
  {
   "cell_type": "markdown",
   "id": "9c375c01-0bff-4bfe-b89e-7a3af063ca3d",
   "metadata": {},
   "source": [
    "# Sequences in Python - Dict"
   ]
  },
  {
   "cell_type": "code",
   "execution_count": null,
   "id": "b5b86ad9-9ab8-48f4-b7c5-3c450f183f32",
   "metadata": {},
   "outputs": [],
   "source": [
    "person = {'name': 'John', 'age': 30, 'city': 'New York'}"
   ]
  },
  {
   "cell_type": "code",
   "execution_count": null,
   "id": "5376788a-ab9c-4bcf-81f5-e206048c4893",
   "metadata": {},
   "outputs": [],
   "source": [
    "person.keys()"
   ]
  },
  {
   "cell_type": "code",
   "execution_count": null,
   "id": "d621dbf3-b7c3-4554-84e5-666cf7cb827e",
   "metadata": {},
   "outputs": [],
   "source": [
    "person.values()"
   ]
  },
  {
   "cell_type": "code",
   "execution_count": null,
   "id": "6a7f67b2-cb11-40b1-a11e-c03ea464adec",
   "metadata": {},
   "outputs": [],
   "source": [
    "person"
   ]
  },
  {
   "cell_type": "code",
   "execution_count": null,
   "id": "3f5cfcda-ad53-4dad-820d-1cb1e93d5ff8",
   "metadata": {},
   "outputs": [],
   "source": [
    "person['education'] = 'Engineering'\n",
    "person"
   ]
  },
  {
   "cell_type": "code",
   "execution_count": null,
   "id": "50a0dd53-f1e7-4fb6-8a2b-dfe4f930e91e",
   "metadata": {},
   "outputs": [],
   "source": [
    "# delete any key paid\n",
    "person.pop('age')\n",
    "person"
   ]
  },
  {
   "cell_type": "code",
   "execution_count": null,
   "id": "5254ee32-c240-4390-99d7-3bd14b4d91c8",
   "metadata": {},
   "outputs": [],
   "source": [
    "'name' in person"
   ]
  },
  {
   "cell_type": "code",
   "execution_count": null,
   "id": "4eb8c9f9-4b18-4a9e-b25a-6e23d7be3901",
   "metadata": {
    "scrolled": true
   },
   "outputs": [],
   "source": [
    "len(person)"
   ]
  },
  {
   "cell_type": "markdown",
   "id": "38dda6fa-84d4-46ce-9d44-d2058ec54116",
   "metadata": {},
   "source": [
    "# Sequences in Python - Sets"
   ]
  },
  {
   "cell_type": "code",
   "execution_count": null,
   "id": "32d76862-5f88-468e-92ad-f4513b68da7e",
   "metadata": {},
   "outputs": [],
   "source": [
    "# collection of unique values, unordered collection\n",
    "# enclosing inside the curly braces\n",
    "s1 = {1,2,3,4,5,6,1,2,3,4,6,10}\n",
    "print(type(s1))"
   ]
  },
  {
   "cell_type": "code",
   "execution_count": null,
   "id": "e835c101-643f-4c8b-9848-d24b645a7761",
   "metadata": {},
   "outputs": [],
   "source": [
    "len(s1)"
   ]
  },
  {
   "cell_type": "code",
   "execution_count": null,
   "id": "0fb32278-4e09-4d7b-9dc7-afcebb193da5",
   "metadata": {},
   "outputs": [],
   "source": [
    "s1"
   ]
  },
  {
   "cell_type": "code",
   "execution_count": null,
   "id": "82fe1cba-9387-4edd-83c3-7e39a22cb047",
   "metadata": {},
   "outputs": [],
   "source": [
    "s2 = {20,30,10,20,59,10,30,25.25,'hello'}\n",
    "s2"
   ]
  },
  {
   "cell_type": "code",
   "execution_count": null,
   "id": "fe55d171-a414-4af9-9a6d-efbccd92b1da",
   "metadata": {},
   "outputs": [],
   "source": [
    "#doesnot support index\n",
    "s1[0]"
   ]
  },
  {
   "cell_type": "code",
   "execution_count": null,
   "id": "55a64588-f1ca-4dac-86ad-2295d403ec50",
   "metadata": {},
   "outputs": [],
   "source": [
    "s1.add(99)\n",
    "s1"
   ]
  },
  {
   "cell_type": "code",
   "execution_count": null,
   "id": "de25efe4-1d19-496a-9562-5f6e31a59b8e",
   "metadata": {},
   "outputs": [],
   "source": [
    "s1.remove(3)\n",
    "s1"
   ]
  },
  {
   "cell_type": "code",
   "execution_count": null,
   "id": "0ef1b586-d53f-4d2c-a443-a67d326a7869",
   "metadata": {},
   "outputs": [],
   "source": [
    "s2"
   ]
  },
  {
   "cell_type": "code",
   "execution_count": null,
   "id": "5eba1c71-752e-4aa5-ae2e-f55a23942b69",
   "metadata": {},
   "outputs": [],
   "source": [
    "s1.union(s2)"
   ]
  },
  {
   "cell_type": "code",
   "execution_count": null,
   "id": "18550c0f-c9e7-4547-9f22-75544db840ce",
   "metadata": {},
   "outputs": [],
   "source": [
    "s1.intersection(s2)"
   ]
  },
  {
   "cell_type": "code",
   "execution_count": null,
   "id": "53e2bef3-0a15-4f13-9a0b-867089c1e3fa",
   "metadata": {},
   "outputs": [],
   "source": [
    "s1.difference(s2)"
   ]
  },
  {
   "cell_type": "code",
   "execution_count": null,
   "id": "f3102008-484d-4acb-b583-f3279976bc05",
   "metadata": {},
   "outputs": [],
   "source": [
    "10 in s1"
   ]
  },
  {
   "cell_type": "markdown",
   "id": "db82d3f7-0813-44c0-9150-4b6834f501f9",
   "metadata": {},
   "source": [
    "# Sequences in Python - Range"
   ]
  },
  {
   "cell_type": "code",
   "execution_count": null,
   "id": "b4b77189-9a5e-4b3c-b099-32726488d1a4",
   "metadata": {},
   "outputs": [],
   "source": [
    "r = range(1,7)\n",
    "print(r)"
   ]
  },
  {
   "cell_type": "code",
   "execution_count": null,
   "id": "41e19722-0336-435d-bf0f-5cc158f6c659",
   "metadata": {},
   "outputs": [],
   "source": [
    "list(r)"
   ]
  },
  {
   "cell_type": "code",
   "execution_count": null,
   "id": "61b061f1-6d61-4b25-9762-22e1f14f2989",
   "metadata": {},
   "outputs": [],
   "source": [
    "3 in r"
   ]
  },
  {
   "cell_type": "code",
   "execution_count": null,
   "id": "1bac23f9-050f-44ad-80d6-45e9156c6cc2",
   "metadata": {},
   "outputs": [],
   "source": [
    "9 in r"
   ]
  },
  {
   "cell_type": "code",
   "execution_count": null,
   "id": "d69ab0bd-f146-4b9c-be47-9db800891b51",
   "metadata": {},
   "outputs": [],
   "source": [
    "len(r)"
   ]
  },
  {
   "cell_type": "code",
   "execution_count": null,
   "id": "a10e0a5f-7e3e-46f1-a792-58f0f417ebae",
   "metadata": {},
   "outputs": [],
   "source": [
    "r[2] # indexing"
   ]
  },
  {
   "cell_type": "code",
   "execution_count": null,
   "id": "abacb6aa-d5f4-4798-b846-66e2ea34ae7a",
   "metadata": {},
   "outputs": [],
   "source": [
    "r[1:4] # slicing"
   ]
  },
  {
   "attachments": {},
   "cell_type": "markdown",
   "id": "41c72b27-c083-4eee-aa67-6ce4371af1fd",
   "metadata": {},
   "source": [
    "# Execution Control in Python - Conditional Statements"
   ]
  },
  {
   "cell_type": "markdown",
   "id": "aa92a1a3-ba00-4a0b-8061-351b8d2cc3da",
   "metadata": {},
   "source": [
    "Syntax:\n",
    "```python\n",
    "\n",
    "if condition1:\n",
    "    statement(s)\n",
    "\n",
    "elif condition2:\n",
    "    statement(s)\n",
    ".\n",
    ".\n",
    ".\n",
    "else:\n",
    "    statement(s)\n",
    "\n",
    "```"
   ]
  },
  {
   "cell_type": "code",
   "execution_count": null,
   "id": "8357dad2-0ab5-41cd-bc30-fc7af51919e0",
   "metadata": {},
   "outputs": [],
   "source": [
    "x = 10\n",
    "if x>5:\n",
    "    print(\"x is greater than 5\")"
   ]
  },
  {
   "cell_type": "code",
   "execution_count": null,
   "id": "1ead9d4f-c7f5-40ef-b7b7-fb56a6fbef75",
   "metadata": {},
   "outputs": [],
   "source": [
    "x = 10\n",
    "if x>5:\n",
    "    print(\"x is greater than 5\")\n",
    "    print(\"inside the block\")\n",
    "print(\"outside the block\")"
   ]
  },
  {
   "cell_type": "code",
   "execution_count": null,
   "id": "cb17f226-239f-4893-9a87-1588691345b9",
   "metadata": {},
   "outputs": [],
   "source": [
    "x = 1\n",
    "if x>5:\n",
    "    print(\"x is greater than 5\")\n",
    "    print(\"inside the block\")\n",
    "print(\"outside the block\")"
   ]
  },
  {
   "cell_type": "code",
   "execution_count": null,
   "id": "5c77822f-44e6-4469-bad0-704c717d1f98",
   "metadata": {},
   "outputs": [],
   "source": [
    "x = 1\n",
    "if x>5:\n",
    "    print(\"x is greater than 5\")\n",
    "    print(\"inside the if block\")\n",
    "else:\n",
    "    print(\"x is less than 5\")\n",
    "    print(\"inside the else block\")\n",
    "print(\"outside the block\")"
   ]
  },
  {
   "cell_type": "code",
   "execution_count": null,
   "id": "0e7d3e84-76a9-414f-8c58-7c216beed872",
   "metadata": {},
   "outputs": [],
   "source": [
    "x = 1\n",
    "if x>5:\n",
    "    print(\"x is greater than 5\")\n",
    "    print(\"inside the if block\")\n",
    "elif x==5 :\n",
    "    print(\"x is equal to 5\")\n",
    "    print(\"inside the elif block\")\n",
    "else:\n",
    "    print(\"x is less than 5\")\n",
    "    print(\"inside the else block\")\n",
    "print(\"outside the block\")"
   ]
  },
  {
   "cell_type": "code",
   "execution_count": null,
   "id": "7aeb57e2-9b6b-463d-924c-2be43c863742",
   "metadata": {},
   "outputs": [],
   "source": [
    "x = 10\n",
    "if x>5:\n",
    "    print(\"x is greater than 5\")\n",
    "    print(\"inside the if block\")\n",
    "elif x==5 :\n",
    "    print(\"x is equal to 5\")\n",
    "    print(\"inside the elif block\")\n",
    "else:\n",
    "    print(\"x is less than 5\")\n",
    "    print(\"inside the else block\")\n",
    "print(\"outside the block\")"
   ]
  },
  {
   "cell_type": "code",
   "execution_count": null,
   "id": "3a233d2b-663d-4ffa-8bb5-684bdecd135e",
   "metadata": {},
   "outputs": [],
   "source": [
    "x = 5\n",
    "if x>5:\n",
    "    print(\"x is greater than 5\")\n",
    "    print(\"inside the if block\")\n",
    "elif x==5 :\n",
    "    print(\"x is equal to 5\")\n",
    "    print(\"inside the elif block\")\n",
    "else:\n",
    "    print(\"x is less than 5\")\n",
    "    print(\"inside the else block\")\n",
    "print(\"outside the block\")"
   ]
  },
  {
   "cell_type": "code",
   "execution_count": null,
   "id": "cfd53428-b850-4b5a-a35f-5e51da72b651",
   "metadata": {},
   "outputs": [],
   "source": [
    "# Usage Logical Operators"
   ]
  },
  {
   "cell_type": "code",
   "execution_count": null,
   "id": "a6b34562-2c3d-4352-bd55-658b805f3f94",
   "metadata": {},
   "outputs": [],
   "source": [
    "num = 15\n",
    "if num > 10 and num % 2 == 1:\n",
    "    print(\"Number is greater than 10 and odd.\")\n",
    "elif num < 0 or num % 2 == 0:\n",
    "    print(\"Number is either negative or even.\")\n",
    "else:\n",
    "    print(\"Number is neither greater than 10 nor odd.\")"
   ]
  },
  {
   "cell_type": "code",
   "execution_count": null,
   "id": "9e7451e3-a36c-4238-8d0d-d32a10babeb6",
   "metadata": {},
   "outputs": [],
   "source": [
    "# MLOPS\n",
    "deployment_threshold = 0.85\n",
    "model_accuracy = 0.87\n",
    "\n",
    "if model_accuracy >= deployment_threshold:\n",
    "    deploy_model = True\n",
    "    # Deploy the model\n",
    "else:\n",
    "    deploy_model = False\n",
    "    # Retrain the model or take other actions"
   ]
  },
  {
   "cell_type": "code",
   "execution_count": null,
   "id": "15740e90-b9b4-463a-ad8f-017697d1df8d",
   "metadata": {},
   "outputs": [],
   "source": [
    "deploy_model"
   ]
  },
  {
   "cell_type": "code",
   "execution_count": null,
   "id": "318cadf9-4b6d-4c99-bac1-e590140c0de7",
   "metadata": {},
   "outputs": [],
   "source": [
    "model_A_accuracy = 0.85\n",
    "model_B_accuracy = 0.82\n",
    "\n",
    "if model_A_accuracy > model_B_accuracy:\n",
    "    selected_model = \"Model A\"\n",
    "else:\n",
    "    selected_model = \"Model B\"\n",
    "\n",
    "print(\"The selected model is:\",selected_model)"
   ]
  },
  {
   "cell_type": "markdown",
   "id": "375cba0c-4bea-44c5-b4cf-28bef55144f5",
   "metadata": {},
   "source": [
    "# Execution Control in Python - For Loops/Statement"
   ]
  },
  {
   "cell_type": "markdown",
   "id": "9419a9c7-44a9-441f-9094-7fb3791205da",
   "metadata": {},
   "source": [
    "```python\n",
    "\n",
    "for variable in iterable:\n",
    "    statement(s)\n",
    "```"
   ]
  },
  {
   "cell_type": "code",
   "execution_count": null,
   "id": "ea58ea9e-1e88-4f05-8c0f-c32800e5fcce",
   "metadata": {},
   "outputs": [],
   "source": [
    "l1 = [1,2,3,4,5]\n",
    "\n",
    "for i in l1:\n",
    "    print(\"hello\",i)\n",
    "    print(\"welcome\")"
   ]
  },
  {
   "cell_type": "code",
   "execution_count": null,
   "id": "0bfdef12-2368-48a1-a078-8dced573f711",
   "metadata": {},
   "outputs": [],
   "source": [
    "for i in range(5):\n",
    "    print(i)"
   ]
  },
  {
   "cell_type": "code",
   "execution_count": null,
   "id": "5cf48f23-d0cf-4ae1-8901-cddd73ec5730",
   "metadata": {},
   "outputs": [],
   "source": [
    "for var in \"hello\":\n",
    "    print(var)"
   ]
  },
  {
   "cell_type": "markdown",
   "id": "b9c3f915-a024-48ee-9164-3842ac6cbc45",
   "metadata": {},
   "source": [
    "# Execution Control in Python - while Loops/Statement\n",
    "\n",
    "```python\n",
    "while (condition):\n",
    "    statement(s)\n",
    "```"
   ]
  },
  {
   "cell_type": "code",
   "execution_count": null,
   "id": "df8d6ba3-0ae7-4444-85fb-fd774bce4638",
   "metadata": {},
   "outputs": [],
   "source": [
    "counter = 1\n",
    "\n",
    "while counter <= 5:\n",
    "    print(counter)\n",
    "    counter += 1"
   ]
  },
  {
   "cell_type": "code",
   "execution_count": null,
   "id": "923d6fd4-a82e-45e3-b3aa-193ae2005818",
   "metadata": {},
   "outputs": [],
   "source": [
    "counter = 1\n",
    "\n",
    "while counter <= 5:\n",
    "    print(counter)  \n",
    "    counter += 1\n",
    "print(\"outside the loop\")"
   ]
  },
  {
   "cell_type": "code",
   "execution_count": null,
   "id": "43e8e93a-3381-4736-ba9c-11ffcfca0262",
   "metadata": {},
   "outputs": [],
   "source": [
    "# Example of using a while loop in MLOps context\n",
    "\n",
    "import numpy as np\n",
    "from sklearn.datasets import make_classification\n",
    "from sklearn.model_selection import train_test_split\n",
    "from sklearn.ensemble import RandomForestClassifier\n",
    "from sklearn.metrics import accuracy_score\n",
    "\n",
    "# Generate a synthetic dataset\n",
    "X, y = make_classification(n_samples=1000, n_features=20, n_classes=2, random_state=42)\n",
    "\n",
    "# Split the dataset into training and testing sets\n",
    "X_train, X_test, y_train, y_test = train_test_split(X, y, test_size=0.2, random_state=42)\n",
    "\n",
    "# Initialize the model\n",
    "model = RandomForestClassifier(random_state=42)\n",
    "\n",
    "# Train the model\n",
    "model.fit(X_train, y_train)\n",
    "\n",
    "# Set the initial accuracy threshold and accuracy\n",
    "target_accuracy = 0.90\n",
    "current_accuracy = 0.0\n",
    "\n",
    "# Monitor the model's accuracy until it reaches the target accuracy\n",
    "while current_accuracy < target_accuracy:\n",
    "    # Make predictions on the test set\n",
    "    y_pred = model.predict(X_test)\n",
    "    \n",
    "    # Calculate the accuracy of the predictions\n",
    "    current_accuracy = accuracy_score(y_test, y_pred)\n",
    "    \n",
    "    print(f\"Current accuracy: {current_accuracy}\")\n",
    "    \n",
    "    # If the current accuracy is below the target, retrain the model\n",
    "    if current_accuracy < target_accuracy:\n",
    "        model.fit(X_train, y_train)  # Retrain the model\n",
    "    \n",
    "print(\"Target accuracy reached!\")"
   ]
  },
  {
   "attachments": {},
   "cell_type": "markdown",
   "id": "e3ac56f1-e72c-4c15-be39-a38bf0dc9eb3",
   "metadata": {},
   "source": [
    "# Hands On – Loop Control Statements in Python Programming"
   ]
  },
  {
   "cell_type": "code",
   "execution_count": null,
   "id": "2fa39a8d-5568-41ad-b2b8-7e9e14fbb225",
   "metadata": {},
   "outputs": [],
   "source": [
    "# break\n",
    "numbers = [0,1,2,3,-5,6,4]\n",
    "for num in numbers:\n",
    "    print(num)\n",
    "    if num<0:\n",
    "        print(\"first negative number found\",num)\n",
    "        break"
   ]
  },
  {
   "cell_type": "code",
   "execution_count": null,
   "id": "8a128624-024d-46cf-8ed1-0e51f98ae719",
   "metadata": {},
   "outputs": [],
   "source": [
    "# Print only odd numbers\n",
    "for i in range(1,11):\n",
    "    if i %2==0:\n",
    "        continue\n",
    "    print(i)"
   ]
  },
  {
   "cell_type": "code",
   "execution_count": null,
   "id": "e65e027c-d174-42aa-8914-7155c5f6c828",
   "metadata": {},
   "outputs": [],
   "source": [
    "# Pass\n",
    "# Example: Placeholder inside a loop\n",
    "for i in range(5):\n",
    "    if i == 3:\n",
    "        pass  # Do nothing when i is 3\n",
    "    else:\n",
    "        print(i)"
   ]
  },
  {
   "cell_type": "markdown",
   "id": "892b4000-c6bd-4e31-bf6c-eff62314afd3",
   "metadata": {},
   "source": [
    "# Exception Handling"
   ]
  },
  {
   "cell_type": "code",
   "execution_count": null,
   "id": "e2c1967e-a854-42aa-9aa3-42aac5e06636",
   "metadata": {},
   "outputs": [],
   "source": [
    "result = 10/0"
   ]
  },
  {
   "cell_type": "code",
   "execution_count": null,
   "id": "0f7b95be-0ecc-45f5-b5c5-757a3516fb81",
   "metadata": {},
   "outputs": [],
   "source": [
    "try:\n",
    "    result = 10/0\n",
    "except ZeroDivisionError:\n",
    "    print(\"do not divide the value by zero\")"
   ]
  },
  {
   "cell_type": "code",
   "execution_count": null,
   "id": "0d0c0d3b-a959-4f7a-8e00-96d36059b1ab",
   "metadata": {},
   "outputs": [],
   "source": [
    "try:\n",
    "    result = 10/0\n",
    "except ZeroDivisionError:\n",
    "    print(\"do not divide the value by zero\")\n",
    "finally:\n",
    "    print(\"statement execution complete\")"
   ]
  },
  {
   "cell_type": "code",
   "execution_count": null,
   "id": "42e210ec-e658-449e-bbfe-b3c029bc6854",
   "metadata": {},
   "outputs": [],
   "source": [
    "try:\n",
    "    result = 10/0\n",
    "except : # catch all exception\n",
    "    print(\"do not divide the value by zero\")"
   ]
  },
  {
   "cell_type": "code",
   "execution_count": null,
   "id": "be0091e1-d90b-4615-9401-c20eec6a954c",
   "metadata": {},
   "outputs": [],
   "source": [
    "# Example: Division by zero exception handling\n",
    "\n",
    "try:\n",
    "    numerator = int(input(\"Enter the numerator: \"))\n",
    "    denominator = int(input(\"Enter the denominator: \"))\n",
    "    \n",
    "    result = numerator / denominator\n",
    "    print(\"Result of division:\", result)\n",
    "\n",
    "except ZeroDivisionError:\n",
    "    print(\"Error: Division by zero is not allowed.\")\n",
    "\n",
    "except ValueError:\n",
    "    print(\"Error: Please enter valid integer values.\")\n",
    "\n",
    "except Exception as e:\n",
    "    print(\"An unexpected error occurred:\", e)\n"
   ]
  },
  {
   "cell_type": "markdown",
   "id": "809a9611-a915-47f1-b7ae-32a81ef06745",
   "metadata": {},
   "source": [
    "# String Formatting"
   ]
  },
  {
   "cell_type": "code",
   "execution_count": null,
   "id": "95e49752-6402-41d4-af12-93d614d9bcc0",
   "metadata": {},
   "outputs": [],
   "source": [
    "# old style\n",
    "name = \"john\"\n",
    "old_style_demo = \"Hello!! %s!\"% name\n",
    "print(old_style_demo)"
   ]
  },
  {
   "cell_type": "code",
   "execution_count": null,
   "id": "67b46c95-93a4-457e-96e7-2a60ce53291d",
   "metadata": {},
   "outputs": [],
   "source": [
    "# str.format\n",
    "name = \"john\"\n",
    "profession = \"mlops engineer\"\n",
    "new_style_demo = \"Hello, {}!, I am glad to know that you are {}\".format(name,profession)\n",
    "print(new_style_demo)"
   ]
  },
  {
   "cell_type": "code",
   "execution_count": null,
   "id": "3949dd90-a0cf-4b56-9eee-e5263ae376de",
   "metadata": {},
   "outputs": [],
   "source": [
    "name = \"john\"\n",
    "profession = \"mlops engineer\"\n",
    "new_style_demo = \"Hello, {a}!, I am glad to know that you are {b}\".format(a=name,b=profession)\n",
    "print(new_style_demo)"
   ]
  },
  {
   "cell_type": "code",
   "execution_count": null,
   "id": "2c2458de-c82d-47f6-a25f-b425274bc7b3",
   "metadata": {},
   "outputs": [],
   "source": [
    "# f-strings\n",
    "name = \"john\"\n",
    "profession = \"mlops engineer\"\n",
    "f_string = f\"hello, {name}, I am glad to know that you are {profession}\"\n",
    "print(f_string)"
   ]
  },
  {
   "cell_type": "markdown",
   "id": "4b9abb91-06a2-44c0-857c-c821c678c373",
   "metadata": {},
   "source": [
    "# User Functions in Python\n",
    "Group of statements that performs a specific task."
   ]
  },
  {
   "cell_type": "code",
   "execution_count": null,
   "id": "89ee4220-243b-4813-8d32-0eaf4e0db777",
   "metadata": {},
   "outputs": [],
   "source": [
    "def Example(): # creation\n",
    "    print(\"good morning\")"
   ]
  },
  {
   "cell_type": "code",
   "execution_count": null,
   "id": "000f65c8-eb49-462b-ad7e-c42d221bc668",
   "metadata": {},
   "outputs": [],
   "source": [
    "# call the function\n",
    "# function_name(parameters)\n",
    "Example()"
   ]
  },
  {
   "cell_type": "code",
   "execution_count": null,
   "id": "c55c27a4-73cd-40f2-bb18-0980e4cbffdc",
   "metadata": {},
   "outputs": [],
   "source": [
    "def Example(): # creation\n",
    "    print(\"good morning\")\n",
    "    print(\"good afternoon\")\n",
    "    print(\"good night\")"
   ]
  },
  {
   "cell_type": "code",
   "execution_count": null,
   "id": "6630c825-5956-40d5-8d08-195952edf0a5",
   "metadata": {},
   "outputs": [],
   "source": [
    "Example()"
   ]
  },
  {
   "cell_type": "markdown",
   "id": "5e6f5370-fd17-4c8a-ae72-82f76b672b36",
   "metadata": {},
   "source": [
    "### Create a Function which takes the name as parameter, and Print good morning with name"
   ]
  },
  {
   "cell_type": "code",
   "execution_count": null,
   "id": "135ecf9d-b9e0-4e35-90a3-1b62b1f49242",
   "metadata": {},
   "outputs": [],
   "source": [
    "def Example2(name):\n",
    "    print(f\"Good morning {name}\")"
   ]
  },
  {
   "cell_type": "code",
   "execution_count": null,
   "id": "ab9b535c-fba9-4831-8aa9-63b83119f22a",
   "metadata": {},
   "outputs": [],
   "source": [
    "Example2(\"Jacob\")"
   ]
  },
  {
   "cell_type": "markdown",
   "id": "a66a7329-ab03-4c83-85dc-d164a5a8edba",
   "metadata": {},
   "source": [
    "### See what happens when you call the above function without parameters"
   ]
  },
  {
   "cell_type": "code",
   "execution_count": null,
   "id": "c1a10cfa-454c-4666-97ff-5e4b2e99c915",
   "metadata": {},
   "outputs": [],
   "source": [
    "Example2()"
   ]
  },
  {
   "cell_type": "code",
   "execution_count": null,
   "id": "63239f40-0230-4796-af50-8f64872c84a9",
   "metadata": {},
   "outputs": [],
   "source": [
    "def Example2(name):\n",
    "    \"\"\" This is a example function which return good morning with name \"\"\"\n",
    "    print(f\"Good morning {name}\")"
   ]
  },
  {
   "cell_type": "code",
   "execution_count": null,
   "id": "3ca9879d-5269-464a-96d6-1d3684f7eb4c",
   "metadata": {},
   "outputs": [],
   "source": [
    "Example2(\"Alice\")"
   ]
  },
  {
   "cell_type": "code",
   "execution_count": null,
   "id": "70218ca5-262a-48c3-a57f-5afbbf8405fd",
   "metadata": {},
   "outputs": [],
   "source": [
    "help(Example2) # access the docucmentation of a function"
   ]
  },
  {
   "cell_type": "markdown",
   "id": "c862aee5-5e81-45f3-88cb-92a87feac3e7",
   "metadata": {},
   "source": [
    "### Create the function that accepts two numbers and print the sum"
   ]
  },
  {
   "cell_type": "code",
   "execution_count": null,
   "id": "3727496c-6fcf-464e-8067-b05368672693",
   "metadata": {},
   "outputs": [],
   "source": [
    "def add(a1,a2):\n",
    "    print(f\"a1 is {a1}\")\n",
    "    print(f\"a2 is {a2}\")\n",
    "    s = a1+a2\n",
    "    print(f\"sum is {s}\")"
   ]
  },
  {
   "cell_type": "code",
   "execution_count": null,
   "id": "f48866ac-ca93-4c73-bb98-ddf276c0fda0",
   "metadata": {},
   "outputs": [],
   "source": [
    "add(10,20) # positional arguments"
   ]
  },
  {
   "cell_type": "code",
   "execution_count": null,
   "id": "615faf76-911c-4c24-807d-5a3048724ce6",
   "metadata": {},
   "outputs": [],
   "source": [
    "# function_name(keyworded arguments)\n",
    "add(a1=10,a2=20)"
   ]
  },
  {
   "cell_type": "code",
   "execution_count": null,
   "id": "09416132-d2cf-4ca2-a6bc-5303ab7c6662",
   "metadata": {},
   "outputs": [],
   "source": [
    "add(a2=10,a1=20)"
   ]
  },
  {
   "cell_type": "markdown",
   "id": "aac01a4a-fd6b-4277-8fe7-1a709f6cfc5d",
   "metadata": {},
   "source": [
    "### Defalt Parameter Values"
   ]
  },
  {
   "cell_type": "code",
   "execution_count": null,
   "id": "25a83897-1c3a-452a-af96-4fc9211dde7c",
   "metadata": {},
   "outputs": [],
   "source": [
    "def add(a1,a2=30):\n",
    "    print(f\"a1 is {a1}\")\n",
    "    print(f\"a2 is {a2}\")\n",
    "    s = a1+a2\n",
    "    print(f\"sum is {s}\")"
   ]
  },
  {
   "cell_type": "code",
   "execution_count": null,
   "id": "1b348207-38a4-4a4d-ad99-961cd391c43c",
   "metadata": {},
   "outputs": [],
   "source": [
    "add(10)"
   ]
  },
  {
   "cell_type": "code",
   "execution_count": null,
   "id": "9501f9ca-f306-4dd2-b84a-3ce397ab23c1",
   "metadata": {},
   "outputs": [],
   "source": [
    "add(a2=10)"
   ]
  },
  {
   "cell_type": "code",
   "execution_count": null,
   "id": "1267fc29-e66e-453c-8cc3-95f804e3aacb",
   "metadata": {},
   "outputs": [],
   "source": [
    "add(a1=20,a2=10)"
   ]
  },
  {
   "cell_type": "code",
   "execution_count": null,
   "id": "9c709a66-c267-49d1-9917-a3a55fc6d04b",
   "metadata": {},
   "outputs": [],
   "source": [
    "def add(a1=20,a2=30):\n",
    "    print(f\"a1 is {a1}\")\n",
    "    print(f\"a2 is {a2}\")\n",
    "    s = a1+a2\n",
    "    print(f\"sum is {s}\")"
   ]
  },
  {
   "cell_type": "code",
   "execution_count": null,
   "id": "7d645962-6bb1-43f0-b8c5-6b97dd651f9d",
   "metadata": {},
   "outputs": [],
   "source": [
    "add()"
   ]
  },
  {
   "cell_type": "markdown",
   "id": "e6b434d0-8d4c-4edf-815e-97297a2d99ea",
   "metadata": {},
   "source": [
    "### Assign the output of Function to variable and see what happens"
   ]
  },
  {
   "cell_type": "code",
   "execution_count": null,
   "id": "f5847c07-ce81-403a-bfb8-b63222597c81",
   "metadata": {},
   "outputs": [],
   "source": [
    "out = add(a1=20,a2=50)"
   ]
  },
  {
   "cell_type": "code",
   "execution_count": null,
   "id": "1fb43fa3-4fc7-4020-b37a-a8d888c4550e",
   "metadata": {},
   "outputs": [],
   "source": [
    "print(out)"
   ]
  },
  {
   "cell_type": "markdown",
   "id": "40435de0-02fd-4584-8334-7d277a2adb14",
   "metadata": {},
   "source": [
    "### Return Statement"
   ]
  },
  {
   "cell_type": "code",
   "execution_count": null,
   "id": "250303d8-77b2-44a9-b126-34479e658107",
   "metadata": {},
   "outputs": [],
   "source": [
    "def add(a1=20,a2=30):\n",
    "    print(f\"a1 is {a1}\")\n",
    "    print(f\"a2 is {a2}\")\n",
    "    s = a1+a2\n",
    "    return s"
   ]
  },
  {
   "cell_type": "code",
   "execution_count": null,
   "id": "4b0c3c52-f42f-4693-b0ac-250b42f1fe45",
   "metadata": {},
   "outputs": [],
   "source": [
    "out = add(a1=20,a2=50)\n",
    "print(out)"
   ]
  },
  {
   "cell_type": "code",
   "execution_count": null,
   "id": "46c364c4-e825-495a-a239-616545ff0af4",
   "metadata": {},
   "outputs": [],
   "source": [
    "print(out)"
   ]
  },
  {
   "cell_type": "markdown",
   "id": "688961ad-2174-47e8-8f28-54a594799f7b",
   "metadata": {},
   "source": [
    "### Scope of Variables"
   ]
  },
  {
   "cell_type": "code",
   "execution_count": null,
   "id": "7ab27fd8-bc19-4d48-858d-f3f1cf4c936b",
   "metadata": {},
   "outputs": [],
   "source": [
    "def add(a1=20,a2=30):\n",
    "    print(f\"a1 is {a1}\")\n",
    "    print(f\"a2 is {a2}\")\n",
    "    s = a1+a2\n",
    "    return s"
   ]
  },
  {
   "cell_type": "code",
   "execution_count": null,
   "id": "5f1cd39d-f253-4142-8991-7530b1ea83c0",
   "metadata": {},
   "outputs": [],
   "source": [
    "print(a1)"
   ]
  },
  {
   "cell_type": "markdown",
   "id": "6d3ff249-4a72-4897-a5cf-7f7e25f15375",
   "metadata": {},
   "source": [
    "### Variable Number of Arguments\n",
    "- variable number of positional arguments\n",
    "- variable number of keyworded arguments"
   ]
  },
  {
   "cell_type": "code",
   "execution_count": null,
   "id": "88777893-ddf5-46bf-8ce6-2b43744ccfea",
   "metadata": {},
   "outputs": [],
   "source": [
    "# variable number of positional arguments\n",
    "def add(a1=20,a2=30,*args):\n",
    "    print(f\"a1 is {a1}\")\n",
    "    print(f\"a2 is {a2}\")\n",
    "    print(f\"values in args is {args}\")\n",
    "    print(f\"datatype of args is {type(args)}\")"
   ]
  },
  {
   "cell_type": "code",
   "execution_count": null,
   "id": "30dce2a5-dbd0-41d1-9c87-502077be71b0",
   "metadata": {},
   "outputs": [],
   "source": [
    "add(1,2,3,4,5,6,7)"
   ]
  },
  {
   "cell_type": "code",
   "execution_count": null,
   "id": "a5485495-05a2-4aa4-8109-f063605ae062",
   "metadata": {},
   "outputs": [],
   "source": [
    "# variable number of keyworded arguments\n",
    "def add(a1=20,a2=30,**kwargs):\n",
    "    print(f\"a1 is {a1}\")\n",
    "    print(f\"a2 is {a2}\")\n",
    "    print(f\"values in args is {kwargs}\")\n",
    "    print(f\"datatype of args is {type(kwargs)}\")"
   ]
  },
  {
   "cell_type": "code",
   "execution_count": null,
   "id": "fbeb9fde-f4f7-4383-8e15-2b802925eb81",
   "metadata": {},
   "outputs": [],
   "source": [
    "add(a1=20,a2=10,a3=50,a4=60,a5=100)"
   ]
  },
  {
   "cell_type": "markdown",
   "id": "27667375-2891-4bd6-934a-88bbb6bd5a3d",
   "metadata": {},
   "source": [
    "# Lambda functions"
   ]
  },
  {
   "cell_type": "code",
   "execution_count": null,
   "id": "0696656d-0463-4447-a735-6127058bfde2",
   "metadata": {},
   "outputs": [],
   "source": [
    "f = lambda a : a**2"
   ]
  },
  {
   "cell_type": "code",
   "execution_count": null,
   "id": "c7353321-8bc9-4feb-8d12-342b5bcc033a",
   "metadata": {},
   "outputs": [],
   "source": [
    "f(2)"
   ]
  },
  {
   "cell_type": "code",
   "execution_count": null,
   "id": "2c466b07-a13f-484b-b0d0-3a9de14c19b8",
   "metadata": {},
   "outputs": [],
   "source": [
    "f(3)"
   ]
  },
  {
   "cell_type": "code",
   "execution_count": null,
   "id": "6183578c-a505-4d55-9b39-1bc92fa44352",
   "metadata": {},
   "outputs": [],
   "source": [
    "f(4)"
   ]
  },
  {
   "cell_type": "markdown",
   "id": "03fa8a95-e8c4-4537-bfb9-85d746f19d05",
   "metadata": {},
   "source": [
    "### Write a Lambda Function which takes 2 numbers and returns the multiplication of it"
   ]
  },
  {
   "cell_type": "code",
   "execution_count": null,
   "id": "c2861a5b-6116-46d1-826a-488ebdb572b0",
   "metadata": {},
   "outputs": [],
   "source": [
    "f = lambda x,y : x*y"
   ]
  },
  {
   "cell_type": "code",
   "execution_count": null,
   "id": "47594841-4f49-4b48-aeb3-2788794a97fd",
   "metadata": {},
   "outputs": [],
   "source": [
    "f(20,5)"
   ]
  },
  {
   "cell_type": "markdown",
   "id": "514f9a59-6781-43e1-a3dc-b0c95b1bb02c",
   "metadata": {},
   "source": [
    "# Advanced Functions - map, filter, list & dict comprehension"
   ]
  },
  {
   "cell_type": "markdown",
   "id": "ef389be8-4349-4e4a-b188-66bab66657fb",
   "metadata": {},
   "source": [
    "### Map\n",
    "\n",
    "This returns a modified list where every value in the original list has been changed based on a function. The example below cubes every number in the list."
   ]
  },
  {
   "cell_type": "code",
   "execution_count": null,
   "id": "a2579ed0-98f6-4217-932b-49c1f51f485c",
   "metadata": {},
   "outputs": [],
   "source": [
    "l1 = [1,2,3,4,5]\n",
    "map(lambda x: x**3, l1)"
   ]
  },
  {
   "cell_type": "code",
   "execution_count": null,
   "id": "138b6339-00e8-4e31-bad7-a13a8c96964a",
   "metadata": {},
   "outputs": [],
   "source": [
    "list(map(lambda x: x**3, l1))"
   ]
  },
  {
   "cell_type": "markdown",
   "id": "28842676-8af0-45b3-b453-06024b792120",
   "metadata": {},
   "source": [
    "### `filter()`\n",
    "\n",
    "The filter() function in python takes in a function and a list of arguments\n",
    "\n",
    "Syntax: filter(function, iterable)"
   ]
  },
  {
   "cell_type": "code",
   "execution_count": null,
   "id": "fdfae13f-5cfe-4a18-8c66-4852e2eba6af",
   "metadata": {},
   "outputs": [],
   "source": [
    "l1 = [1,2,3,4,5,6,7,8,9]\n",
    "filter(lambda x: x%2 == 0, l1)"
   ]
  },
  {
   "cell_type": "code",
   "execution_count": null,
   "id": "c64a081d-7bbc-4346-80cd-8fb4230657b7",
   "metadata": {},
   "outputs": [],
   "source": [
    "list(filter(lambda x: x%2 == 0, l1))"
   ]
  },
  {
   "cell_type": "markdown",
   "id": "804c148f-0f01-44c9-9a52-ab339786db5b",
   "metadata": {},
   "source": [
    "### List Comprehension\n",
    "\n",
    "syntax:\n",
    "\n",
    " `[expression for item in iterable]`"
   ]
  },
  {
   "cell_type": "code",
   "execution_count": null,
   "id": "11aad82b-12a4-42ee-aec2-d87d5b9f5df9",
   "metadata": {},
   "outputs": [],
   "source": [
    "l1"
   ]
  },
  {
   "cell_type": "code",
   "execution_count": null,
   "id": "85afbfef-ccda-41f9-b6c7-a2a922b4aaf0",
   "metadata": {},
   "outputs": [],
   "source": [
    "[i*2 for i in l1]"
   ]
  },
  {
   "cell_type": "markdown",
   "id": "618adbe2-f1ed-4316-8a4f-4202dfdd0ec7",
   "metadata": {},
   "source": [
    "### Dict working\n",
    "Syntax:\n",
    "\n",
    "`{key_expression : value_expression for value\n",
    "in iterable}`"
   ]
  },
  {
   "cell_type": "code",
   "execution_count": null,
   "id": "bdc0ea0c-a39f-45a1-9e86-b5771559600e",
   "metadata": {},
   "outputs": [],
   "source": [
    "l1"
   ]
  },
  {
   "cell_type": "code",
   "execution_count": null,
   "id": "07e6fce4-cf19-45de-baae-0f5f17b0168b",
   "metadata": {},
   "outputs": [],
   "source": [
    "{i*2:i**2 for i in l1}"
   ]
  },
  {
   "cell_type": "markdown",
   "id": "6c9c010e-6e98-48c1-9100-0e8f74e6f4d8",
   "metadata": {},
   "source": [
    "# Modules in Python Programming"
   ]
  },
  {
   "cell_type": "code",
   "execution_count": null,
   "id": "5fdf2054-adf6-4894-bdf1-7f947653c75c",
   "metadata": {},
   "outputs": [],
   "source": [
    "import mymodule"
   ]
  },
  {
   "cell_type": "code",
   "execution_count": null,
   "id": "ef98a705-544b-4f6f-893b-a184d7f37e42",
   "metadata": {},
   "outputs": [],
   "source": [
    "mymodule.greet(\"John\")"
   ]
  },
  {
   "cell_type": "code",
   "execution_count": null,
   "id": "1f3b0963-d5bc-4335-ba53-120f6eca06d9",
   "metadata": {},
   "outputs": [],
   "source": [
    "mymodule.square(5)"
   ]
  },
  {
   "cell_type": "code",
   "execution_count": null,
   "id": "93bfd460-232f-4367-9f4b-6972f75c576c",
   "metadata": {},
   "outputs": [],
   "source": [
    "mymodule.cube(5)"
   ]
  },
  {
   "cell_type": "code",
   "execution_count": null,
   "id": "4d063bf4-4312-4753-93c3-618993df568b",
   "metadata": {},
   "outputs": [],
   "source": [
    "mymodule.my_list"
   ]
  },
  {
   "cell_type": "code",
   "execution_count": null,
   "id": "862370ae-fbb3-4bb0-a2ff-fa15078bf15c",
   "metadata": {},
   "outputs": [],
   "source": [
    "# import specific elements\n",
    "from mymodule import my_list"
   ]
  },
  {
   "cell_type": "code",
   "execution_count": null,
   "id": "dd5998c6-19f2-46dc-87a1-54e0caaf0e64",
   "metadata": {},
   "outputs": [],
   "source": [
    "my_list"
   ]
  },
  {
   "cell_type": "code",
   "execution_count": null,
   "id": "4fb81595-7517-44be-9121-b53f80be5e80",
   "metadata": {},
   "outputs": [],
   "source": [
    "# import as alias name\n",
    "import mymodule as m"
   ]
  },
  {
   "cell_type": "code",
   "execution_count": null,
   "id": "5c901ede-c18a-4455-a0b8-eac97604269f",
   "metadata": {},
   "outputs": [],
   "source": [
    "m.my_list"
   ]
  },
  {
   "cell_type": "code",
   "execution_count": null,
   "id": "753bc00b-b9c3-4fd7-b45a-8c3b5eef3222",
   "metadata": {},
   "outputs": [],
   "source": [
    "m.square(2)"
   ]
  },
  {
   "cell_type": "markdown",
   "id": "62e13450-eb06-4fbf-8a37-c97bb1850c9a",
   "metadata": {},
   "source": [
    "### Module Search Path"
   ]
  },
  {
   "cell_type": "code",
   "execution_count": null,
   "id": "2cb4232a-057d-4dea-82e4-949756b5473e",
   "metadata": {
    "scrolled": true
   },
   "outputs": [],
   "source": [
    "import sys\n",
    "sys.path"
   ]
  },
  {
   "cell_type": "code",
   "execution_count": null,
   "id": "3425c1f2-dec8-4a29-bb52-643da5dfbfaf",
   "metadata": {},
   "outputs": [],
   "source": [
    "# add new path - sys.path.append() # specify the new location"
   ]
  },
  {
   "cell_type": "code",
   "execution_count": null,
   "id": "5555ce95-67ab-4d2b-8d80-6d8b76c5d9f5",
   "metadata": {},
   "outputs": [],
   "source": [
    "import food"
   ]
  },
  {
   "cell_type": "code",
   "execution_count": null,
   "id": "32f938cc-0d3f-4bcc-a6da-aa64a48e443d",
   "metadata": {},
   "outputs": [],
   "source": [
    "food.pick()"
   ]
  },
  {
   "cell_type": "markdown",
   "id": "ec1e09f5-7093-4810-8cf7-6a8d25e4e4e9",
   "metadata": {},
   "source": [
    "# Regular Expressions"
   ]
  },
  {
   "cell_type": "markdown",
   "id": "02b85640-691c-4da6-9e1f-beeb3cc58ece",
   "metadata": {},
   "source": [
    "Game: \n",
    "\n",
    "- https://regexone.com/\n",
    "- https://regexcrossword.com/"
   ]
  },
  {
   "cell_type": "code",
   "execution_count": null,
   "id": "c51426cb-48c1-46d9-85dd-a70e0030e863",
   "metadata": {},
   "outputs": [],
   "source": [
    "import re"
   ]
  },
  {
   "cell_type": "code",
   "execution_count": null,
   "id": "f644e999-0e4a-4f71-8f21-2f453a50a8d1",
   "metadata": {},
   "outputs": [],
   "source": [
    "help(re)"
   ]
  },
  {
   "cell_type": "code",
   "execution_count": null,
   "id": "6dd0696b-d94b-4a7c-a729-826300eab915",
   "metadata": {},
   "outputs": [],
   "source": [
    "re.search(\"[0-9]\",\"foo123bar\")"
   ]
  },
  {
   "cell_type": "code",
   "execution_count": null,
   "id": "e68beb95-44e1-4444-a05e-69a79c9bfe30",
   "metadata": {},
   "outputs": [],
   "source": [
    "re.search(\"[0-9][0-9]\",\"foo123bar\")"
   ]
  },
  {
   "cell_type": "code",
   "execution_count": null,
   "id": "377c4cb7-e078-4ac1-9268-b44f93e9b6d1",
   "metadata": {},
   "outputs": [],
   "source": [
    "re.search(\"[0-9][0-9][0-9]\",\"foo123bar\")"
   ]
  },
  {
   "cell_type": "code",
   "execution_count": null,
   "id": "803956d6-ce1e-443e-973e-15d7045a54d5",
   "metadata": {},
   "outputs": [],
   "source": [
    "print(re.search(\"[0-9][0-9][0-9][0-9]\",\"foo123bar\"))"
   ]
  },
  {
   "cell_type": "code",
   "execution_count": null,
   "id": "f3dac5aa-ce6a-4f5e-9ee9-75d23183de7b",
   "metadata": {},
   "outputs": [],
   "source": [
    "print(re.search('[0-9][0-9][0-9]', '234bazyfejgkou9ejfj8477566556ofakjfhj'))"
   ]
  },
  {
   "cell_type": "code",
   "execution_count": null,
   "id": "29dad4b1-bd4f-4643-acbd-97108a086a95",
   "metadata": {},
   "outputs": [],
   "source": [
    "print(re.search('[0-9][0-9][0-9][0-9]', '234bazyfejgkou9ejfj8477566556ofakjfhj'))"
   ]
  },
  {
   "cell_type": "code",
   "execution_count": null,
   "id": "9bbe51df-efdf-478c-8ebe-c9e67a044167",
   "metadata": {},
   "outputs": [],
   "source": [
    "print(re.search('[a-z][0-9][0-9][0-9][0-9]', '234bazyfejgkou9ejfj8477566556ofakjfhj'))"
   ]
  },
  {
   "cell_type": "code",
   "execution_count": null,
   "id": "13b491c1-cdf6-4be8-b6c4-f0bc88ce491c",
   "metadata": {},
   "outputs": [],
   "source": [
    "# re.match - search from start of the string\n",
    "mystring = 'Here is an absolute ab string'\n",
    "\n",
    "print(re.match('He', mystring))\n",
    "print(re.match('er', mystring)) # Searches from start of string\n",
    "print(re.search('ab', mystring))\n",
    "print(re.search('er', mystring))"
   ]
  },
  {
   "cell_type": "code",
   "execution_count": null,
   "id": "ce2b1397-d7f7-4fec-9b19-a9d0357ad694",
   "metadata": {},
   "outputs": [],
   "source": [
    "# Return all the matching patterns\n",
    "print(re.findall('ab', 'Here is an absolute string with another absolute and what about nothing'))"
   ]
  },
  {
   "cell_type": "code",
   "execution_count": null,
   "id": "b43edcc6-2bf5-4c19-b53c-7313e5df8ab0",
   "metadata": {},
   "outputs": [],
   "source": [
    "print(re.sub('[ab]', '*', 'abcde abcdef abcdef'))"
   ]
  },
  {
   "cell_type": "code",
   "execution_count": null,
   "id": "5aa482c0-05a1-44d9-9fbd-59925cbcfdad",
   "metadata": {},
   "outputs": [],
   "source": [
    "print(re.sub('ab', '*', 'abcde abcdef abcdef'))"
   ]
  },
  {
   "cell_type": "code",
   "execution_count": null,
   "id": "9578a82b-590b-47df-9064-02e228ea8c89",
   "metadata": {},
   "outputs": [],
   "source": [
    "mystring = \"Hello John, Welcome to Manifold AI Learning\"\n",
    "print(re.findall(\"[a-zA-Z]+\",mystring))"
   ]
  },
  {
   "cell_type": "code",
   "execution_count": null,
   "id": "76a13985-1f99-46f9-9edb-1644ee847dad",
   "metadata": {},
   "outputs": [],
   "source": [
    "print(re.search(\"[a-zA-Z]+\",mystring))"
   ]
  },
  {
   "cell_type": "code",
   "execution_count": null,
   "id": "3269e98c-21c1-4922-a908-253d59c36f8e",
   "metadata": {},
   "outputs": [],
   "source": [
    "mystring = 'abc_xyz@gmail.com. Please communicate at your convenience. My alternate email id is mayank.parikh@abc.xyz'\n",
    "print(re.match('[a-zA-Z]+[.]*[_0-9a-zA-Z]*@[a-zA-Z]+.[a-zA-Z]+', mystring))   "
   ]
  },
  {
   "cell_type": "code",
   "execution_count": null,
   "id": "5d9a96de-d500-40b3-828f-a611c73846e3",
   "metadata": {},
   "outputs": [],
   "source": [
    "mystring = 'abc_xyz@gmail.com. Please communicate at your convenience. My alternate email id is mayank.parikh@abc.xyz'\n",
    "print(re.findall('[a-zA-Z]+[.]*[_0-9a-zA-Z]*@[a-zA-Z]+.[a-zA-Z]+', mystring))   "
   ]
  },
  {
   "cell_type": "markdown",
   "id": "0c62c1c5-bd98-45ec-8e0b-9cbbd95be8e0",
   "metadata": {},
   "source": [
    "# Object Oriented Programming with Python"
   ]
  },
  {
   "cell_type": "code",
   "execution_count": null,
   "id": "ab6e0971-2fa0-447b-ba38-d499505835d1",
   "metadata": {},
   "outputs": [],
   "source": [
    "x = 50\n",
    "y = [1,2,3,4]\n",
    "print(type(x))\n",
    "print(type(y))"
   ]
  },
  {
   "cell_type": "markdown",
   "id": "cb9b731f-b79c-4daf-8fd7-42eff240e325",
   "metadata": {},
   "source": [
    "## Create Classes in python\n",
    "\n",
    "1. to define class we create with `class` keyword\n",
    "2. Variables inside a class is called `attribute`. To access an attribute, we call as - `object_name.attribute`\n",
    "3. Functions defined inside a class is called as `methods`\n",
    "4. class methods must have `self` as its first parameter (`self` is general name we use, but you are free to use any name)\n",
    "5. By using `self` in the method, we pass object itself as a first paramter\n",
    "6. So, when i call - `object.method()` , this will be converted to `class.method(object)`"
   ]
  },
  {
   "cell_type": "code",
   "execution_count": null,
   "id": "237b0107-93ef-4689-910c-b367d2888621",
   "metadata": {},
   "outputs": [],
   "source": [
    "class example:\n",
    "    name = \"John\" # attribute - class attribute\n",
    "\n",
    "    def fun(self): # methods\n",
    "        print(\"greetings\")\n",
    "       # pass"
   ]
  },
  {
   "cell_type": "code",
   "execution_count": null,
   "id": "41faaafa-63c3-45cd-95e9-665db61ec6c1",
   "metadata": {},
   "outputs": [],
   "source": [
    "ob1  = example() # create an object"
   ]
  },
  {
   "cell_type": "code",
   "execution_count": null,
   "id": "08cb3831-5f98-44a2-a885-33494ba5e884",
   "metadata": {},
   "outputs": [],
   "source": [
    "print(ob1)"
   ]
  },
  {
   "cell_type": "code",
   "execution_count": null,
   "id": "3e991d35-685f-4e25-9b92-30db120dfdfb",
   "metadata": {},
   "outputs": [],
   "source": [
    "ob1.name"
   ]
  },
  {
   "cell_type": "code",
   "execution_count": null,
   "id": "56b0bec5-5833-4eda-9d9b-b7402c6fb22a",
   "metadata": {},
   "outputs": [],
   "source": [
    "ob1.fun() # example.fun(ob1)"
   ]
  },
  {
   "cell_type": "code",
   "execution_count": null,
   "id": "753c993f-7576-43a6-a7a1-e885875660ab",
   "metadata": {},
   "outputs": [],
   "source": [
    "#Object attribute\n",
    "class example:\n",
    "    name = \"John\" # attribute - class attribute\n",
    "\n",
    "    def fun(self): # methods\n",
    "        self.age = 20 # ob1.age --> object attribute\n",
    "        print(\"greetings\")\n",
    "       # pass"
   ]
  },
  {
   "cell_type": "code",
   "execution_count": null,
   "id": "42851dcb-a735-4f9b-87b0-10107669b80a",
   "metadata": {},
   "outputs": [],
   "source": [
    "ob1 = example()"
   ]
  },
  {
   "cell_type": "code",
   "execution_count": null,
   "id": "efea4575-52f7-4a92-915e-5524770e30a5",
   "metadata": {},
   "outputs": [],
   "source": [
    "ob1.name"
   ]
  },
  {
   "cell_type": "code",
   "execution_count": null,
   "id": "36664889-324c-4f60-9f9b-15468bc6533d",
   "metadata": {},
   "outputs": [],
   "source": [
    "ob1.fun()"
   ]
  },
  {
   "cell_type": "code",
   "execution_count": null,
   "id": "3e35c4c0-f992-41fc-9dcc-dc78b5f93f59",
   "metadata": {},
   "outputs": [],
   "source": [
    "ob1.age"
   ]
  },
  {
   "cell_type": "code",
   "execution_count": null,
   "id": "7fae2c58-010b-4593-9404-65c77423c15c",
   "metadata": {},
   "outputs": [],
   "source": [
    "ob2 = example()"
   ]
  },
  {
   "cell_type": "code",
   "execution_count": null,
   "id": "beacef42-5f80-4c9d-8fd0-41200c54679a",
   "metadata": {},
   "outputs": [],
   "source": [
    "ob2.name"
   ]
  },
  {
   "cell_type": "code",
   "execution_count": null,
   "id": "01cb80aa-1aa4-4ec2-a5e4-0a98b3946671",
   "metadata": {},
   "outputs": [],
   "source": [
    "ob2.fun()"
   ]
  },
  {
   "cell_type": "code",
   "execution_count": null,
   "id": "97ab710d-7261-4f8b-9ca3-8356d56b0189",
   "metadata": {},
   "outputs": [],
   "source": [
    "ob2.age"
   ]
  },
  {
   "cell_type": "code",
   "execution_count": null,
   "id": "27e9aa72-c35d-4877-97ab-68c168e40e5a",
   "metadata": {},
   "outputs": [],
   "source": [
    "ob2.age = 30"
   ]
  },
  {
   "cell_type": "code",
   "execution_count": null,
   "id": "899ee69d-ec43-4ef0-b66c-71bf005fff8f",
   "metadata": {},
   "outputs": [],
   "source": [
    "ob1.age"
   ]
  },
  {
   "cell_type": "code",
   "execution_count": null,
   "id": "9d26c017-07c9-4299-9985-ec7a6f8e7a9e",
   "metadata": {},
   "outputs": [],
   "source": [
    "ob1.exp = 50"
   ]
  },
  {
   "cell_type": "code",
   "execution_count": null,
   "id": "615e6bba-232d-45fe-b11b-aa6d0cf67cd8",
   "metadata": {},
   "outputs": [],
   "source": [
    "ob1.exp"
   ]
  },
  {
   "cell_type": "code",
   "execution_count": null,
   "id": "21815e26-4e35-4b5e-ab40-5211ae0558e1",
   "metadata": {},
   "outputs": [],
   "source": [
    "ob2.exp"
   ]
  },
  {
   "cell_type": "markdown",
   "id": "5522c994-59d8-4f77-8d47-105146606026",
   "metadata": {},
   "source": [
    "## Initialization\n",
    "If we want to assign the object attributes during creation, we make use of `__init__()` method"
   ]
  },
  {
   "cell_type": "code",
   "execution_count": null,
   "id": "7b634375-e9ab-4342-88bb-7e3ef1bc4b03",
   "metadata": {},
   "outputs": [],
   "source": [
    "class example:\n",
    "    def __init__(self,name):\n",
    "        self.name = name\n",
    "\n",
    "    def return_name(self):\n",
    "        print(f\"welcome {self.name}\")"
   ]
  },
  {
   "cell_type": "code",
   "execution_count": null,
   "id": "eedf73e5-9db8-4359-8d51-9e43ab2c435a",
   "metadata": {},
   "outputs": [],
   "source": [
    "object1 = example(name=\"jack\")"
   ]
  },
  {
   "cell_type": "code",
   "execution_count": null,
   "id": "cd4992b0-c814-4d35-8f92-0e1d06a488a9",
   "metadata": {},
   "outputs": [],
   "source": [
    "object1.name"
   ]
  },
  {
   "cell_type": "code",
   "execution_count": null,
   "id": "1dc3613e-b69b-4747-b8fc-6b82cea8778a",
   "metadata": {},
   "outputs": [],
   "source": [
    "object1.return_name()"
   ]
  },
  {
   "cell_type": "markdown",
   "id": "d0e0dcb5-3b36-4c2b-a340-09f749696575",
   "metadata": {},
   "source": [
    "### Steps :\n",
    "\n",
    "\n",
    "1.   System searches for class definition of `example`\n",
    "2.   creates a new object \n",
    "3.   calls the object's `__init__()` method by sending the newly created object as first argument, and the name `jack` as second argument\n",
    "4.   Stores the value of `name` in the object\n",
    "5.    Returns a new object\n",
    "6. Attaches the variable `object1` to the object\n"
   ]
  },
  {
   "cell_type": "markdown",
   "id": "78bb2d93-22ac-406f-9f27-71d4bd278bca",
   "metadata": {},
   "source": [
    "### Activity: Create a class as `CAKE` and store the initialized value of flavor & person name into the attributes"
   ]
  },
  {
   "cell_type": "code",
   "execution_count": null,
   "id": "46d09b06-da06-43b6-8f90-61900f58697d",
   "metadata": {},
   "outputs": [],
   "source": [
    "class cake:\n",
    "    def __init__(self, flavor, name):\n",
    "        self.flavor = flavor\n",
    "        self.name = name"
   ]
  },
  {
   "cell_type": "code",
   "execution_count": null,
   "id": "fd9bac02-e3a4-440b-b425-44d6650b5dde",
   "metadata": {},
   "outputs": [],
   "source": [
    "o1 = cake(\"Strawberry\", \"John\")"
   ]
  },
  {
   "cell_type": "code",
   "execution_count": null,
   "id": "8350f3b4-8100-4144-a777-6a01418e8abc",
   "metadata": {},
   "outputs": [],
   "source": [
    "o1.flavor"
   ]
  },
  {
   "cell_type": "code",
   "execution_count": null,
   "id": "09895637-39c0-45ec-86af-19379cc5d80b",
   "metadata": {},
   "outputs": [],
   "source": [
    "o1.name"
   ]
  },
  {
   "cell_type": "markdown",
   "id": "f80975f3-fe40-48b8-9cf1-b594216819cc",
   "metadata": {},
   "source": [
    "### Activity: Create a Class that takes input as : radius, and has the methods which return Area & Circumference"
   ]
  },
  {
   "cell_type": "code",
   "execution_count": null,
   "id": "e8d74a90-ac68-4f58-9611-3ffc79762559",
   "metadata": {},
   "outputs": [],
   "source": [
    "class circle:\n",
    "    def __init__(self,radius):\n",
    "        self.radius = radius\n",
    "\n",
    "    def area(self):\n",
    "        return f\"area is {3.142*self.radius*self.radius}\"\n",
    "\n",
    "    def circumference(self):\n",
    "        return f\"circumference is {2*3.142*self.radius}\""
   ]
  },
  {
   "cell_type": "code",
   "execution_count": null,
   "id": "2920ebbe-25de-43b5-aa21-4ec039ec2dca",
   "metadata": {},
   "outputs": [],
   "source": [
    "c1 = circle(5)"
   ]
  },
  {
   "cell_type": "code",
   "execution_count": null,
   "id": "5a196c56-4897-4c96-9ef6-20a259e30f2a",
   "metadata": {},
   "outputs": [],
   "source": [
    "c1.area()"
   ]
  },
  {
   "cell_type": "code",
   "execution_count": null,
   "id": "a7fbea79-3674-4138-8b4c-5a00cc37980a",
   "metadata": {},
   "outputs": [],
   "source": [
    "c1.circumference()"
   ]
  },
  {
   "cell_type": "markdown",
   "id": "e6e824b8-0dfb-4cb6-963d-c2f26be98659",
   "metadata": {},
   "source": [
    "# Object Oriented Concepts in Python - Hands On"
   ]
  },
  {
   "cell_type": "markdown",
   "id": "315a83dd-a930-4a9f-9f4c-74b801aaf17c",
   "metadata": {},
   "source": [
    "# Inheritence\n",
    "\n",
    "Create a new `class` *from* existing `class`, but with some addition or changes. Its a good way to use the code. \n",
    "\n",
    "Example: We perform this inheritence when we are building our own custom model from scratch in Tensorflow. \n",
    "\n",
    "\n",
    "```python:\n",
    "class Car:\n",
    "  pass\n",
    "\n",
    "class SUV(Car):\n",
    "  pass\n"
   ]
  },
  {
   "cell_type": "code",
   "execution_count": 1,
   "id": "e35adf1e-73e0-465a-b858-8a34ce0db9cb",
   "metadata": {},
   "outputs": [],
   "source": [
    "class Car:\n",
    "  pass\n",
    "\n",
    "class SUV(Car):\n",
    "  pass"
   ]
  },
  {
   "cell_type": "code",
   "execution_count": 2,
   "id": "15fa7d09-1ba5-46d1-850b-5c06d7db24ea",
   "metadata": {},
   "outputs": [
    {
     "data": {
      "text/plain": [
       "True"
      ]
     },
     "execution_count": 2,
     "metadata": {},
     "output_type": "execute_result"
    }
   ],
   "source": [
    "issubclass(SUV,Car)"
   ]
  },
  {
   "cell_type": "markdown",
   "id": "abac483e-fc0e-4cd1-afd8-100203df8850",
   "metadata": {},
   "source": [
    "### Inherit from parent class"
   ]
  },
  {
   "cell_type": "code",
   "execution_count": 3,
   "id": "41003a18-9ac9-4fef-88f4-9613564d6643",
   "metadata": {},
   "outputs": [],
   "source": [
    "class Car:\n",
    "  def wheels(self):\n",
    "      print(\"I am a FWD car\")\n",
    "\n",
    "class SUV(Car):\n",
    "  pass"
   ]
  },
  {
   "cell_type": "code",
   "execution_count": 4,
   "id": "f07ba88d-c515-4d54-bf4d-125eb1f587ad",
   "metadata": {},
   "outputs": [],
   "source": [
    "c1 = Car()\n",
    "c2 = SUV()"
   ]
  },
  {
   "cell_type": "code",
   "execution_count": 5,
   "id": "7a5b5770-3b40-499b-bd83-786f4d1a9224",
   "metadata": {},
   "outputs": [
    {
     "name": "stdout",
     "output_type": "stream",
     "text": [
      "I am a FWD car\n"
     ]
    }
   ],
   "source": [
    "c1.wheels()"
   ]
  },
  {
   "cell_type": "code",
   "execution_count": 6,
   "id": "05458a95-6888-4f81-941e-7099f8ef9135",
   "metadata": {},
   "outputs": [
    {
     "name": "stdout",
     "output_type": "stream",
     "text": [
      "I am a FWD car\n"
     ]
    }
   ],
   "source": [
    "c2.wheels()"
   ]
  },
  {
   "cell_type": "markdown",
   "id": "4178e2a9-11b2-45b3-8ba9-152f2de98c42",
   "metadata": {},
   "source": [
    "# Polymorphism"
   ]
  },
  {
   "cell_type": "code",
   "execution_count": 7,
   "id": "8d778d51-693b-4df4-ae07-4048e637fb95",
   "metadata": {},
   "outputs": [],
   "source": [
    "class Car:\n",
    "  def wheels(self):\n",
    "    print(\"I am a FWD car\")\n",
    "\n",
    "class SUV(Car):\n",
    "  def wheels(self):\n",
    "    print(\"I am a 4WD Car\")"
   ]
  },
  {
   "cell_type": "code",
   "execution_count": 8,
   "id": "694cd07e-b0cc-4d5a-b241-9b5fa96f97ab",
   "metadata": {},
   "outputs": [],
   "source": [
    "c1 = Car()\n",
    "c2 = SUV()"
   ]
  },
  {
   "cell_type": "code",
   "execution_count": 9,
   "id": "c6ce250c-5971-4f24-ad04-cec258f1e36a",
   "metadata": {},
   "outputs": [
    {
     "name": "stdout",
     "output_type": "stream",
     "text": [
      "I am a FWD car\n"
     ]
    }
   ],
   "source": [
    "c1.wheels()"
   ]
  },
  {
   "cell_type": "code",
   "execution_count": 10,
   "id": "1051a5a5-aab5-4d24-8017-7e2bc3db9f7a",
   "metadata": {},
   "outputs": [
    {
     "name": "stdout",
     "output_type": "stream",
     "text": [
      "I am a 4WD Car\n"
     ]
    }
   ],
   "source": [
    "c2.wheels()"
   ]
  },
  {
   "cell_type": "markdown",
   "id": "c5ac69ae-3d4c-4009-bba4-ecaf0f16731a",
   "metadata": {},
   "source": [
    "## Add a new method inside a class"
   ]
  },
  {
   "cell_type": "code",
   "execution_count": 11,
   "id": "362d00e6-423d-432b-bc97-bd776b3af5c3",
   "metadata": {},
   "outputs": [],
   "source": [
    "#Add a new method\n",
    "class Car:\n",
    "  def __init__(self,name):\n",
    "    self.name = name\n",
    "\n",
    "  def wheels(self):\n",
    "    print(f\"I am a FWD {self.name}\")\n",
    "\n",
    "class SUV(Car):\n",
    "  def __init__(self,name):\n",
    "    self.name = name\n",
    "\n",
    "  def wheels(self):\n",
    "    print(f\"I am a 4WD {self.name}\")\n",
    "  \n",
    "  def seater(self):\n",
    "    print(f\"This {self.name} has 5+ seater\")"
   ]
  },
  {
   "cell_type": "code",
   "execution_count": 12,
   "id": "dd867c92-1d2e-4c6c-8ccd-80d79d3d45ae",
   "metadata": {},
   "outputs": [],
   "source": [
    "c1 = Car(\"Normal Car\")\n",
    "c2 = SUV(\"SUV Car\")2"
   ]
  },
  {
   "cell_type": "code",
   "execution_count": 13,
   "id": "e2d8628e-31f7-46ce-9e71-e6cc0b81e619",
   "metadata": {},
   "outputs": [
    {
     "name": "stdout",
     "output_type": "stream",
     "text": [
      "I am a FWD Normal Car\n"
     ]
    }
   ],
   "source": [
    "c1.wheels()"
   ]
  },
  {
   "cell_type": "code",
   "execution_count": 14,
   "id": "3a6d97d9-07d7-4bb6-8267-b8b995611ccf",
   "metadata": {},
   "outputs": [
    {
     "name": "stdout",
     "output_type": "stream",
     "text": [
      "I am a 4WD SUV Car\n"
     ]
    }
   ],
   "source": [
    "c2.wheels()"
   ]
  },
  {
   "cell_type": "code",
   "execution_count": 15,
   "id": "81bfdc9a-47ff-45d7-afff-9d0ffe19a453",
   "metadata": {},
   "outputs": [
    {
     "name": "stdout",
     "output_type": "stream",
     "text": [
      "This SUV Car has 5+ seater\n"
     ]
    }
   ],
   "source": [
    "c2.seater()"
   ]
  },
  {
   "cell_type": "code",
   "execution_count": 16,
   "id": "e6b7d9fe-c5d3-4e70-8b15-fa730f59fabb",
   "metadata": {},
   "outputs": [
    {
     "ename": "AttributeError",
     "evalue": "'Car' object has no attribute 'seater'",
     "output_type": "error",
     "traceback": [
      "\u001b[0;31m---------------------------------------------------------------------------\u001b[0m",
      "\u001b[0;31mAttributeError\u001b[0m                            Traceback (most recent call last)",
      "Cell \u001b[0;32mIn[16], line 1\u001b[0m\n\u001b[0;32m----> 1\u001b[0m c1\u001b[38;5;241m.\u001b[39mseater()\n",
      "\u001b[0;31mAttributeError\u001b[0m: 'Car' object has no attribute 'seater'"
     ]
    }
   ],
   "source": [
    "c1.seater()"
   ]
  },
  {
   "cell_type": "markdown",
   "id": "d1b6161a-a4fc-4d4a-8db0-4f7099a00bc7",
   "metadata": {},
   "source": [
    "## Multiple Inheritence"
   ]
  },
  {
   "cell_type": "code",
   "execution_count": 26,
   "id": "2336a183-38d8-47ec-97b9-bfa27e84435a",
   "metadata": {},
   "outputs": [],
   "source": [
    "class Animal:\n",
    "  def says(self):\n",
    "    return \"I can speak\"\n",
    "\n",
    "class Horse(Animal):\n",
    "  def says(self):\n",
    "    return \"Neigh\"\n",
    "\n",
    "class Dog(Animal):\n",
    "    pass\n",
    "  # def says(self):\n",
    "  #   return \"Woof\"\n",
    "\n",
    "class Tiger(Animal):\n",
    "    pass\n",
    "  # def says(self):\n",
    "  #   return \"Roar\"\n",
    "\n",
    "class Donkey(Animal):\n",
    "    pass\n",
    "  # def says(self):\n",
    "  #   return \"Hee-Haw\"\n",
    "\n",
    "class Mule(Donkey,Tiger,Dog):\n",
    "  pass"
   ]
  },
  {
   "cell_type": "code",
   "execution_count": 27,
   "id": "f3154f21-19ad-457e-93a0-aa48b704d4a5",
   "metadata": {},
   "outputs": [],
   "source": [
    "m = Mule()"
   ]
  },
  {
   "cell_type": "code",
   "execution_count": 28,
   "id": "94f092d5-a035-4370-adb2-474e62195ada",
   "metadata": {},
   "outputs": [
    {
     "data": {
      "text/plain": [
       "'I can speak'"
      ]
     },
     "execution_count": 28,
     "metadata": {},
     "output_type": "execute_result"
    }
   ],
   "source": [
    "m.says()"
   ]
  },
  {
   "cell_type": "code",
   "execution_count": 29,
   "id": "49ca3ff7-ae21-46de-977c-04f2010d3666",
   "metadata": {},
   "outputs": [
    {
     "data": {
      "text/plain": [
       "[__main__.Mule,\n",
       " __main__.Donkey,\n",
       " __main__.Tiger,\n",
       " __main__.Dog,\n",
       " __main__.Animal,\n",
       " object]"
      ]
     },
     "execution_count": 29,
     "metadata": {},
     "output_type": "execute_result"
    }
   ],
   "source": [
    "# Method Resolution Order\n",
    "Mule.mro()"
   ]
  },
  {
   "cell_type": "markdown",
   "id": "5514dfb6-18f0-449a-ae68-51686426c045",
   "metadata": {},
   "source": [
    "\n",
    "Order of check:\n",
    "\n",
    "1.   Object itself\n",
    "2.   Object's class\n",
    "3.   Class's first parent\n",
    "4.   Class's Second parent\n",
    "5.   Class's Third parent\n",
    "6.   Original Class (Animal)\n",
    "\n"
   ]
  },
  {
   "cell_type": "markdown",
   "id": "4c1d13f7-6c52-4fa2-9d9c-cc63010c158d",
   "metadata": {},
   "source": [
    "# Encapsulation\n",
    "## Public - Protected - Private Access Modifiers"
   ]
  },
  {
   "cell_type": "markdown",
   "id": "398fd9de-88b5-49e2-99ee-7d6cd4e86b8f",
   "metadata": {},
   "source": [
    "## Public Access Modifier:\n",
    "The members of a class that are declared public are easily accessible from any part of the program. All data members and member functions of a class are public by default. "
   ]
  },
  {
   "cell_type": "code",
   "execution_count": 30,
   "id": "7dc70a9c-ac82-4ff2-b1b1-def78a93cbed",
   "metadata": {},
   "outputs": [],
   "source": [
    "class Person:\n",
    "  \"\"\" This is a documentation for class Persion \"\"\"\n",
    "  def __init__(self,name,email):\n",
    "    self.name = name\n",
    "    self.email = email\n",
    "  \n",
    "  def get_name(self):\n",
    "    return self.name\n",
    "  \n",
    "  def get_email(self):\n",
    "    return self.email"
   ]
  },
  {
   "cell_type": "code",
   "execution_count": 31,
   "id": "30656ae1-d2af-4e83-ae9e-0e6d95327fcb",
   "metadata": {},
   "outputs": [],
   "source": [
    "p1 = Person(\"John\",\"john@gmail.com\")"
   ]
  },
  {
   "cell_type": "code",
   "execution_count": 32,
   "id": "259662fa-ed9c-427b-ad75-6a17d7e2b099",
   "metadata": {},
   "outputs": [
    {
     "data": {
      "text/plain": [
       "'John'"
      ]
     },
     "execution_count": 32,
     "metadata": {},
     "output_type": "execute_result"
    }
   ],
   "source": [
    "p1.name "
   ]
  },
  {
   "cell_type": "code",
   "execution_count": 33,
   "id": "c44b594d-99cf-45ab-8364-08ef079d3dca",
   "metadata": {},
   "outputs": [
    {
     "data": {
      "text/plain": [
       "'john@gmail.com'"
      ]
     },
     "execution_count": 33,
     "metadata": {},
     "output_type": "execute_result"
    }
   ],
   "source": [
    "p1.email"
   ]
  },
  {
   "cell_type": "code",
   "execution_count": 34,
   "id": "7e1b723d-9cf9-41cc-9649-93a28e2cdb48",
   "metadata": {},
   "outputs": [],
   "source": [
    "p1.name = \"Jim\""
   ]
  },
  {
   "cell_type": "code",
   "execution_count": 35,
   "id": "93826e73-4177-4ab3-a0f9-c4837060b4a1",
   "metadata": {},
   "outputs": [
    {
     "data": {
      "text/plain": [
       "'Jim'"
      ]
     },
     "execution_count": 35,
     "metadata": {},
     "output_type": "execute_result"
    }
   ],
   "source": [
    "p1.name"
   ]
  },
  {
   "cell_type": "markdown",
   "id": "24128682-ccac-4b53-920c-6c137fa08c30",
   "metadata": {},
   "source": [
    "## Protected Access Modifier\n",
    "\n",
    "The members of a class that are declared protected are only accessible to a class derived from it. Data members of a class are declared protected by adding a single underscore `‘_’` symbol before the data member of that class. "
   ]
  },
  {
   "cell_type": "code",
   "execution_count": 36,
   "id": "7bf4728e-5fed-4a5d-8d4b-edb401b12572",
   "metadata": {},
   "outputs": [
    {
     "name": "stdout",
     "output_type": "stream",
     "text": [
      "Name:  Jason\n",
      "Roll:  123456\n",
      "Branch:  Information Technology\n"
     ]
    }
   ],
   "source": [
    "# program to illustrate protected access modifier in a class\n",
    " \n",
    "# super class\n",
    "class Student:\n",
    "    \n",
    "     # protected data members - class variables\n",
    "     _name = None\n",
    "     _roll = None\n",
    "     _subject = None\n",
    "    \n",
    "     # constructor\n",
    "     def __init__(self, name, roll, subject): \n",
    "          self._name = name\n",
    "          self._roll = roll\n",
    "          self._subject = subject\n",
    "    \n",
    "     # protected member function  \n",
    "     def _displayinfo(self):\n",
    "          # accessing protected data members\n",
    "          print(\"Roll: \", self._roll)\n",
    "          print(\"Branch: \", self._subject)\n",
    " \n",
    " \n",
    "# derived class\n",
    "class Person(Student):\n",
    " \n",
    "       # constructor\n",
    "       def __init__(self, name, roll, subject):\n",
    "                Student.__init__(self, name, roll, subject)\n",
    "         \n",
    "       # public member function\n",
    "       def displayDetails(self):\n",
    "                   \n",
    "                 # accessing protected data members of super class\n",
    "                print(\"Name: \", self._name)\n",
    "                   \n",
    "                 # accessing protected member functions of super class\n",
    "                self._displayinfo()\n",
    " \n",
    "# creating objects of the derived class       \n",
    "obj = Person(\"Jason\", 123456, \"Information Technology\")\n",
    " \n",
    "# calling public member functions of the class\n",
    "obj.displayDetails()"
   ]
  },
  {
   "cell_type": "markdown",
   "id": "865d719f-4d40-42f1-9d36-9a6a3cf44db0",
   "metadata": {},
   "source": [
    "## Private Access Modifier:\n",
    "The members of a class that are declared private are accessible within the class only, private access modifier is the most secure access modifier. Data members of a class are declared private by adding a double underscore ‘__’ symbol before the data member of that class."
   ]
  },
  {
   "cell_type": "code",
   "execution_count": 4,
   "id": "9bda5500-7cb7-484f-858c-202a0661ef31",
   "metadata": {},
   "outputs": [
    {
     "name": "stdout",
     "output_type": "stream",
     "text": [
      "10\n",
      "This is a public method\n",
      "20\n",
      "This is a protected method\n",
      "30\n",
      "This is a private method\n"
     ]
    }
   ],
   "source": [
    "class MyClass:\n",
    "    def __init__(self):\n",
    "        self.public_var = 10\n",
    "        self._protected_var = 20  # Protected variable\n",
    "        self.__private_var = 30   # Private variable\n",
    "    \n",
    "    def public_method(self):\n",
    "        print(\"This is a public method\")\n",
    "\n",
    "    def _protected_method(self):  # Protected method\n",
    "        print(\"This is a protected method\")\n",
    "\n",
    "    def __private_method(self):   # Private method\n",
    "        print(\"This is a private method\")\n",
    "\n",
    "\n",
    "obj = MyClass()\n",
    "\n",
    "# Accessing public attributes and methods\n",
    "print(obj.public_var)\n",
    "obj.public_method()\n",
    "\n",
    "# Accessing protected attributes and methods (not recommended but possible)\n",
    "print(obj._protected_var)\n",
    "obj._protected_method()\n",
    "\n",
    "# Accessing private attributes and methods (not recommended and discouraged)\n",
    "# Note: This is technically possible but discouraged due to name mangling.\n",
    "# Python name mangling changes the name of the variable in a way that makes it harder to access.\n",
    "# Here, __private_var becomes _MyClass__private_var\n",
    "print(obj._MyClass__private_var)\n",
    "obj._MyClass__private_method()\n"
   ]
  },
  {
   "cell_type": "code",
   "execution_count": null,
   "id": "0efe3cca-8ed0-4e9d-8083-18763590d181",
   "metadata": {},
   "outputs": [],
   "source": []
  },
  {
   "cell_type": "code",
   "execution_count": null,
   "id": "f280dbfb-be13-46e4-9c52-aa3a2cee635a",
   "metadata": {},
   "outputs": [],
   "source": []
  },
  {
   "cell_type": "code",
   "execution_count": null,
   "id": "0c1442ec-df90-45b5-8098-1aa8a0e59b65",
   "metadata": {},
   "outputs": [],
   "source": []
  },
  {
   "cell_type": "code",
   "execution_count": null,
   "id": "8ee08ac3-cfd8-44d4-b498-e649c9a949a0",
   "metadata": {},
   "outputs": [],
   "source": []
  },
  {
   "cell_type": "code",
   "execution_count": null,
   "id": "eb6f25f8-b3ce-47ba-8a55-4f3a3a2abf3a",
   "metadata": {},
   "outputs": [],
   "source": []
  },
  {
   "cell_type": "code",
   "execution_count": null,
   "id": "86a721e5-2649-44ef-9f15-5b078366d0a9",
   "metadata": {},
   "outputs": [],
   "source": []
  },
  {
   "cell_type": "code",
   "execution_count": null,
   "id": "c5a85eb4-4794-4309-9202-67cacaa870bf",
   "metadata": {},
   "outputs": [],
   "source": []
  },
  {
   "cell_type": "code",
   "execution_count": null,
   "id": "a11c92db-5bf5-4b70-812c-3e5f05631fea",
   "metadata": {},
   "outputs": [],
   "source": []
  },
  {
   "cell_type": "code",
   "execution_count": null,
   "id": "502a1754-bdf6-4151-ba08-778f221d54a1",
   "metadata": {},
   "outputs": [],
   "source": []
  }
 ],
 "metadata": {
  "kernelspec": {
   "display_name": "Python 3 (ipykernel)",
   "language": "python",
   "name": "python3"
  },
  "language_info": {
   "codemirror_mode": {
    "name": "ipython",
    "version": 3
   },
   "file_extension": ".py",
   "mimetype": "text/x-python",
   "name": "python",
   "nbconvert_exporter": "python",
   "pygments_lexer": "ipython3",
   "version": "3.11.7"
  }
 },
 "nbformat": 4,
 "nbformat_minor": 5
}
