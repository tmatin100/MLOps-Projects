{
 "cells": [
  {
   "cell_type": "code",
   "execution_count": 1,
   "id": "a400f095-6294-4394-b9e3-b5a722a3770d",
   "metadata": {},
   "outputs": [
    {
     "name": "stdout",
     "output_type": "stream",
     "text": [
      "hello world\n"
     ]
    }
   ],
   "source": [
    "print(\"hello world\")"
   ]
  },
  {
   "cell_type": "code",
   "execution_count": 5,
   "id": "5e3daeab-74f1-4623-8d90-7a7173eaee68",
   "metadata": {
    "tags": []
   },
   "outputs": [],
   "source": [
    "# shift + enter -> to execute current code\n",
    "# escpe - enter the command mode\n",
    "# enter -enter the edit mode\n",
    "\n",
    "# command mode\n",
    "# b -> inert a new line bellow the current cell\n",
    "# a -> insert a new cell above \n",
    "# d + d -> delete a cell \n",
    "# m - > convert to mark down\n",
    "# y - > convert to code \n",
    "\n",
    "\n",
    "## Heading 2\n",
    "### Heading 3 \n",
    "#### Heading 4 "
   ]
  },
  {
   "cell_type": "markdown",
   "id": "aacbe86b-dca4-43a8-8fed-5ef4ab02d796",
   "metadata": {
    "tags": []
   },
   "source": [
    "## Heading 2\n",
    "### Heading 3 \n",
    "#### Heading 4 "
   ]
  },
  {
   "cell_type": "markdown",
   "id": "f1981ea9-b2c3-4e9f-92cc-9ce445b9abf8",
   "metadata": {},
   "source": [
    "# Python Variables"
   ]
  },
  {
   "cell_type": "code",
   "execution_count": 7,
   "id": "4bcb5f55-a927-4803-8c2b-a30d354d6245",
   "metadata": {
    "tags": []
   },
   "outputs": [
    {
     "name": "stdout",
     "output_type": "stream",
     "text": [
      "10\n",
      "99\n"
     ]
    }
   ],
   "source": [
    "# rules of variable \n",
    "# case sensetive \n",
    "\n",
    "x = 10\n",
    "X = 99\n",
    "print(x)\n",
    "print(X)"
   ]
  },
  {
   "cell_type": "code",
   "execution_count": 9,
   "id": "16beb81f-950b-437c-982f-f411a5216fbc",
   "metadata": {
    "tags": []
   },
   "outputs": [
    {
     "name": "stdout",
     "output_type": "stream",
     "text": [
      "500\n"
     ]
    }
   ],
   "source": [
    "x_123 = 500\n",
    "print(x_123)"
   ]
  },
  {
   "cell_type": "code",
   "execution_count": 14,
   "id": "119f0db9-866c-46cc-903f-23d0ee4f505d",
   "metadata": {},
   "outputs": [
    {
     "data": {
      "text/plain": [
       "('localhost', 'admin', 8080, 'password123')"
      ]
     },
     "execution_count": 14,
     "metadata": {},
     "output_type": "execute_result"
    }
   ],
   "source": [
    "# DevOps\n",
    "db_hosts = \"localhost\"\n",
    "db_user = \"admin\"\n",
    "app_port = 8080\n",
    "db_password= \"password123\"\n",
    "\n",
    "db_hosts, db_user, app_port, db_password"
   ]
  },
  {
   "cell_type": "code",
   "execution_count": 13,
   "id": "a2e9e239-fa20-44d0-8d61-1da083dd06b6",
   "metadata": {
    "tags": []
   },
   "outputs": [
    {
     "data": {
      "text/plain": [
       "(0.001, 8, 10)"
      ]
     },
     "execution_count": 13,
     "metadata": {},
     "output_type": "execute_result"
    }
   ],
   "source": [
    "# MLOps AIOPs\n",
    "learning_rate = 0.001\n",
    "batch_size = 8\n",
    "num_ephocs = 10 \n",
    "\n",
    "learning_rate, batch_size, num_ephocs"
   ]
  },
  {
   "cell_type": "code",
   "execution_count": 17,
   "id": "4f37b90b-941e-4def-9be1-002a9c16a24f",
   "metadata": {
    "tags": []
   },
   "outputs": [
    {
     "name": "stdout",
     "output_type": "stream",
     "text": [
      "<class 'str'>\n"
     ]
    }
   ],
   "source": [
    "print(type(db_hosts))"
   ]
  },
  {
   "cell_type": "code",
   "execution_count": 19,
   "id": "e103b349-eb55-470a-b123-cc0002b6bcb6",
   "metadata": {
    "tags": []
   },
   "outputs": [
    {
     "name": "stdout",
     "output_type": "stream",
     "text": [
      "<class 'float'>\n"
     ]
    }
   ],
   "source": [
    "print(type(learning_rate))"
   ]
  },
  {
   "cell_type": "code",
   "execution_count": 23,
   "id": "185f400c-5d50-4904-a271-5a62e81bf4fa",
   "metadata": {
    "tags": []
   },
   "outputs": [
    {
     "name": "stdout",
     "output_type": "stream",
     "text": [
      "<class 'bool'>\n"
     ]
    }
   ],
   "source": [
    "is_Prod = True\n",
    "print(type(is_Prod))"
   ]
  },
  {
   "cell_type": "code",
   "execution_count": 26,
   "id": "7bd6d017-16a7-4dd6-a757-3f81b0364ad2",
   "metadata": {
    "tags": []
   },
   "outputs": [
    {
     "data": {
      "text/plain": [
       "(10, 20, 'hello', 25.52, True)"
      ]
     },
     "execution_count": 26,
     "metadata": {},
     "output_type": "execute_result"
    }
   ],
   "source": [
    "# Tupple \n",
    "t1 = (10,20, \"hello\", 25.52, True)\n",
    "t1"
   ]
  },
  {
   "cell_type": "code",
   "execution_count": 29,
   "id": "ebdf65bc-43f4-4e83-a3e4-3716cbfdcd75",
   "metadata": {
    "tags": []
   },
   "outputs": [
    {
     "name": "stdout",
     "output_type": "stream",
     "text": [
      "<class 'dict'>\n",
      "{'name': 'Nachiketh', 'role': 'instructor', 'exp': 10}\n"
     ]
    }
   ],
   "source": [
    "# Dictionary\n",
    "d1 = {\"name\": \"Nachiketh\", \"role\":\"instructor\", \"exp\": 10}\n",
    "print(type(d1))\n",
    "print(d1)"
   ]
  },
  {
   "cell_type": "markdown",
   "id": "17f7e513-4f56-4f3c-94ac-9d6fd0129aab",
   "metadata": {
    "tags": []
   },
   "source": [
    "# Working with files \n",
    "### file = open(\"examle.txt, \"r\")\n",
    "### file.write(\"hello,World1\\n\")\n",
    "### file.close()"
   ]
  },
  {
   "cell_type": "code",
   "execution_count": 77,
   "id": "835a3b1a-2575-470a-8ac4-22747749b8ee",
   "metadata": {},
   "outputs": [],
   "source": [
    "# create a text file, w-write, t-text\n",
    "fileobj = open(\"example.txt\", \"wt\")\n",
    "fileobj.close()"
   ]
  },
  {
   "cell_type": "code",
   "execution_count": 78,
   "id": "b99a646b-947b-4e43-a583-12778d50f207",
   "metadata": {
    "tags": []
   },
   "outputs": [],
   "source": [
    "# append text with a\n",
    "fileobj = open(\"example.txt\", \"wt\")\n",
    "print(\"Welcome to example of a file \", file = fileobj)\n",
    "fileobj.close()"
   ]
  },
  {
   "cell_type": "code",
   "execution_count": 81,
   "id": "ab59616e-9080-435b-a16f-81ca427ca5a2",
   "metadata": {
    "tags": []
   },
   "outputs": [],
   "source": [
    "# file will get over written\n",
    "fileobj = open(\"example.txt\", \"wt\")\n",
    "print(\"This is another line of my file\", file =fileobj)\n",
    "fileobj.close()"
   ]
  },
  {
   "cell_type": "code",
   "execution_count": 82,
   "id": "72212b10-20ad-47fe-a4ff-30f6e5f71647",
   "metadata": {
    "tags": []
   },
   "outputs": [],
   "source": [
    "# adding to file with a append\n",
    "fileobj = open(\"example.txt\", \"at\")\n",
    "print(\"\\nThis is the outcome of append\", file =fileobj)\n",
    "fileobj.close()"
   ]
  },
  {
   "cell_type": "markdown",
   "id": "e4d7cd54-0907-4a75-af64-1229a85def5e",
   "metadata": {},
   "source": [
    "# Write a text file write()"
   ]
  },
  {
   "cell_type": "code",
   "execution_count": 93,
   "id": "4aaff6b7-6f12-46d1-a848-b4c27175cda5",
   "metadata": {
    "tags": []
   },
   "outputs": [],
   "source": [
    "rhymes = \"\"\"Jack and Jill went up the hill\n",
    "To fetch a pail of water. \n",
    "Jack fell down and borke his crown,\n",
    "And Jill came tumbling after. \n",
    "\"\"\""
   ]
  },
  {
   "cell_type": "code",
   "execution_count": 94,
   "id": "fdb9d5e3-049d-4e3c-bb53-8f48c220355d",
   "metadata": {
    "tags": []
   },
   "outputs": [],
   "source": [
    "fileobj = open(\"rhymes.txt\",\"wt\")\n",
    "fileobj.write(rhymes)\n",
    "fileobj.close()"
   ]
  },
  {
   "cell_type": "code",
   "execution_count": 95,
   "id": "7546c66f-3c58-46de-b954-d995752aebf8",
   "metadata": {
    "tags": []
   },
   "outputs": [
    {
     "name": "stdout",
     "output_type": "stream",
     "text": [
      "Jack and Jill went up the hill\n",
      "To fetch a pail of water. \n",
      "Jack fell down and borke his crown,\n",
      "And Jill came tumbling after. \n",
      "\n"
     ]
    }
   ],
   "source": [
    "print(rhymes)"
   ]
  },
  {
   "cell_type": "markdown",
   "id": "bf1e0e59-0a29-4b68-917a-8f0472c2dfe7",
   "metadata": {},
   "source": [
    "# Read a Text fiel with read(), readline(), or readlines()"
   ]
  },
  {
   "cell_type": "code",
   "execution_count": 96,
   "id": "de3db1f8-c1de-4bed-8fd7-2150613fe89f",
   "metadata": {
    "tags": []
   },
   "outputs": [
    {
     "data": {
      "text/plain": [
       "'Jack and Jill went up the hill\\n'"
      ]
     },
     "execution_count": 96,
     "metadata": {},
     "output_type": "execute_result"
    }
   ],
   "source": [
    "#readline reads each line itteritively \n",
    "f = open(\"rhymes.txt\", \"rt\")\n",
    "f.readline()"
   ]
  },
  {
   "cell_type": "code",
   "execution_count": 97,
   "id": "879f8ee8-0550-4460-a125-012b2421d17f",
   "metadata": {
    "tags": []
   },
   "outputs": [
    {
     "data": {
      "text/plain": [
       "'To fetch a pail of water. \\n'"
      ]
     },
     "execution_count": 97,
     "metadata": {},
     "output_type": "execute_result"
    }
   ],
   "source": [
    "f.readline()"
   ]
  },
  {
   "cell_type": "code",
   "execution_count": 98,
   "id": "85056d5b-3e1c-48bb-802b-253d77dbfc52",
   "metadata": {
    "tags": []
   },
   "outputs": [
    {
     "data": {
      "text/plain": [
       "'Jack fell down and borke his crown,\\n'"
      ]
     },
     "execution_count": 98,
     "metadata": {},
     "output_type": "execute_result"
    }
   ],
   "source": [
    "f.readline()"
   ]
  },
  {
   "cell_type": "code",
   "execution_count": 99,
   "id": "5e190004-aad3-46df-85ca-b136671ba8ab",
   "metadata": {
    "tags": []
   },
   "outputs": [],
   "source": [
    "f.close()"
   ]
  },
  {
   "cell_type": "code",
   "execution_count": 105,
   "id": "8a28b6cf-3762-473a-8cbe-ab5d2d4f8d6a",
   "metadata": {
    "tags": []
   },
   "outputs": [
    {
     "data": {
      "text/plain": [
       "'Jack and Jill went up the hill\\nTo fetch a pail of water. \\nJack fell down and borke his crown,\\nAnd Jill came tumbling after. \\n'"
      ]
     },
     "execution_count": 105,
     "metadata": {},
     "output_type": "execute_result"
    }
   ],
   "source": [
    "rhymes"
   ]
  },
  {
   "cell_type": "code",
   "execution_count": 108,
   "id": "5fb0ae79-c5f5-4b39-afa7-88a6962376b7",
   "metadata": {
    "tags": []
   },
   "outputs": [],
   "source": [
    "f = open(\"rhymes.txt\", \"rt\")\n",
    "rhymes = f.readlines()\n",
    "f.close()"
   ]
  },
  {
   "cell_type": "code",
   "execution_count": 109,
   "id": "97dcde01-f855-4fac-8144-97934a0ac678",
   "metadata": {
    "tags": []
   },
   "outputs": [
    {
     "data": {
      "text/plain": [
       "['Jack and Jill went up the hill\\n',\n",
       " 'To fetch a pail of water. \\n',\n",
       " 'Jack fell down and borke his crown,\\n',\n",
       " 'And Jill came tumbling after. \\n']"
      ]
     },
     "execution_count": 109,
     "metadata": {},
     "output_type": "execute_result"
    }
   ],
   "source": [
    "rhymes"
   ]
  },
  {
   "cell_type": "markdown",
   "id": "b1a28b38-eae0-4ace-b5fa-145e678002aa",
   "metadata": {},
   "source": [
    "# Write a Binary file with write()"
   ]
  },
  {
   "cell_type": "code",
   "execution_count": 110,
   "id": "bc6d196a-1828-4a38-960b-200465c8d6e3",
   "metadata": {
    "tags": []
   },
   "outputs": [
    {
     "data": {
      "text/plain": [
       "256"
      ]
     },
     "execution_count": 110,
     "metadata": {},
     "output_type": "execute_result"
    }
   ],
   "source": [
    "# generate binary data\n",
    "bdata = bytes(range(0,256))\n",
    "len(bdata)"
   ]
  },
  {
   "cell_type": "code",
   "execution_count": 114,
   "id": "d2d413cb-0018-4c17-a651-7e053d699d2b",
   "metadata": {
    "tags": []
   },
   "outputs": [],
   "source": [
    "f = open(\"binfile\", \"wb\")\n",
    "print(f.write(bdata)\n",
    "f.close()"
   ]
  },
  {
   "cell_type": "code",
   "execution_count": 116,
   "id": "cf532f2a-0399-4cc0-88ed-ad3a4ee3d744",
   "metadata": {
    "tags": []
   },
   "outputs": [
    {
     "name": "stdout",
     "output_type": "stream",
     "text": [
      "b'\\x00\\x01\\x02\\x03\\x04\\x05\\x06\\x07\\x08\\t\\n\\x0b\\x0c\\r\\x0e\\x0f\\x10\\x11\\x12\\x13\\x14\\x15\\x16\\x17\\x18\\x19\\x1a\\x1b\\x1c\\x1d\\x1e\\x1f !\"#$%&\\'()*+,-./0123456789:;<=>?@ABCDEFGHIJKLMNOPQRSTUVWXYZ[\\\\]^_`abcdefghijklmnopqrstuvwxyz{|}~\\x7f\\x80\\x81\\x82\\x83\\x84\\x85\\x86\\x87\\x88\\x89\\x8a\\x8b\\x8c\\x8d\\x8e\\x8f\\x90\\x91\\x92\\x93\\x94\\x95\\x96\\x97\\x98\\x99\\x9a\\x9b\\x9c\\x9d\\x9e\\x9f\\xa0\\xa1\\xa2\\xa3\\xa4\\xa5\\xa6\\xa7\\xa8\\xa9\\xaa\\xab\\xac\\xad\\xae\\xaf\\xb0\\xb1\\xb2\\xb3\\xb4\\xb5\\xb6\\xb7\\xb8\\xb9\\xba\\xbb\\xbc\\xbd\\xbe\\xbf\\xc0\\xc1\\xc2\\xc3\\xc4\\xc5\\xc6\\xc7\\xc8\\xc9\\xca\\xcb\\xcc\\xcd\\xce\\xcf\\xd0\\xd1\\xd2\\xd3\\xd4\\xd5\\xd6\\xd7\\xd8\\xd9\\xda\\xdb\\xdc\\xdd\\xde\\xdf\\xe0\\xe1\\xe2\\xe3\\xe4\\xe5\\xe6\\xe7\\xe8\\xe9\\xea\\xeb\\xec\\xed\\xee\\xef\\xf0\\xf1\\xf2\\xf3\\xf4\\xf5\\xf6\\xf7\\xf8\\xf9\\xfa\\xfb\\xfc\\xfd\\xfe\\xff'\n"
     ]
    }
   ],
   "source": [
    "f = open(\"binfile\", \"rb\")\n",
    "print(f.read())\n",
    "f.close()"
   ]
  },
  {
   "cell_type": "markdown",
   "id": "113f3582-c692-4e4d-83a3-dc673d4a552e",
   "metadata": {
    "tags": []
   },
   "source": [
    "# Close Files automaticaly with "
   ]
  },
  {
   "cell_type": "code",
   "execution_count": 118,
   "id": "127a6f5a-595c-49cd-8641-290fdf4179cf",
   "metadata": {
    "tags": []
   },
   "outputs": [
    {
     "name": "stdout",
     "output_type": "stream",
     "text": [
      "Jack and Jill went up the hill\n",
      "To fetch a pail of water. \n",
      "Jack fell down and borke his crown,\n",
      "And Jill came tumbling after. \n",
      "\n"
     ]
    }
   ],
   "source": [
    "with open(\"rhymes.txt\", \"rt\") as f: \n",
    "    print(f.read())"
   ]
  },
  {
   "cell_type": "code",
   "execution_count": 122,
   "id": "445a5053-a5ab-47d5-8d02-db098807efca",
   "metadata": {
    "tags": []
   },
   "outputs": [],
   "source": [
    "# read an image file with binary format\n",
    "# with open(\"demo.png\", \"rt\") as f: \n",
    "#    print(f.read())"
   ]
  },
  {
   "cell_type": "markdown",
   "id": "ffeae3d7-0eb1-4dc9-9949-5bcf6dbb42ed",
   "metadata": {},
   "source": [
    "# Examples from MLOps Project "
   ]
  },
  {
   "cell_type": "code",
   "execution_count": 125,
   "id": "d2f43bcd-b0c2-4b5f-8e61-d56e721b1cdd",
   "metadata": {
    "tags": []
   },
   "outputs": [
    {
     "ename": "NameError",
     "evalue": "name 'model' is not defined",
     "output_type": "error",
     "traceback": [
      "\u001b[0;31m---------------------------------------------------------------------------\u001b[0m",
      "\u001b[0;31mNameError\u001b[0m                                 Traceback (most recent call last)",
      "Cell \u001b[0;32mIn[125], line 12\u001b[0m\n\u001b[1;32m      9\u001b[0m os\u001b[38;5;241m.\u001b[39mmakedirs(model_dir, exist_ok\u001b[38;5;241m=\u001b[39m\u001b[38;5;28;01mTrue\u001b[39;00m) \u001b[38;5;66;03m# create a directory structure\u001b[39;00m\n\u001b[1;32m     11\u001b[0m \u001b[38;5;66;03m# Save model weights\u001b[39;00m\n\u001b[0;32m---> 12\u001b[0m model\u001b[38;5;241m.\u001b[39msave_weights(os\u001b[38;5;241m.\u001b[39mpath\u001b[38;5;241m.\u001b[39mjoin(model_dir, \u001b[38;5;124m\"\u001b[39m\u001b[38;5;124mmodel.h5\u001b[39m\u001b[38;5;124m\"\u001b[39m))\n\u001b[1;32m     14\u001b[0m \u001b[38;5;66;03m# Save configuration\u001b[39;00m\n\u001b[1;32m     15\u001b[0m \u001b[38;5;28;01mwith\u001b[39;00m \u001b[38;5;28mopen\u001b[39m(os\u001b[38;5;241m.\u001b[39mpath\u001b[38;5;241m.\u001b[39mjoin(model_dir, \u001b[38;5;124m\"\u001b[39m\u001b[38;5;124mconfig.json\u001b[39m\u001b[38;5;124m\"\u001b[39m), \u001b[38;5;124m\"\u001b[39m\u001b[38;5;124mw\u001b[39m\u001b[38;5;124m\"\u001b[39m) \u001b[38;5;28;01mas\u001b[39;00m f: \n",
      "\u001b[0;31mNameError\u001b[0m: name 'model' is not defined"
     ]
    }
   ],
   "source": [
    "# Model Save\n",
    "import os\n",
    "import datetime\n",
    "\n",
    "model_name = \"my_model\"\n",
    "version = datetime.datetime.now().strftime(\"%Y%m%d_%H%M%S\")\n",
    "model_dir = f\"models/{model_name}/{version}\"\n",
    "\n",
    "os.makedirs(model_dir, exist_ok=True) # create a directory structure\n",
    "\n",
    "# Save model weights\n",
    "model.save_weights(os.path.join(model_dir, \"model.h5\"))\n",
    "\n",
    "# Save configuration in json format\n",
    "with open(os.path.join(model_dir, \"config.json\"), \"w\") as f: \n",
    "    json.dump(config_dict, f)"
   ]
  },
  {
   "cell_type": "code",
   "execution_count": 128,
   "id": "379d48f0-d244-4797-b475-cf3b63436ca0",
   "metadata": {
    "tags": []
   },
   "outputs": [],
   "source": [
    "# Data Versioning \n",
    "import os \n",
    "data_dir = \"datasets/my_dataset\"\n",
    "version = \"v2\" # Update the version as needed\n",
    "version_data_dir = os.path.join(data_dir, version)\n",
    "\n",
    "os.makedirs(versiond_data_dir, exist_ok = True)\n",
    "\n",
    "# Perform preprocessing and store data in the versioned directory "
   ]
  },
  {
   "cell_type": "code",
   "execution_count": 132,
   "id": "a280d8d8-8686-4f0a-94f4-8732a1c9d6aa",
   "metadata": {
    "tags": []
   },
   "outputs": [],
   "source": [
    "# Manage Experiment Outputs \n",
    "\n",
    "import os \n",
    "import time \n",
    "\n",
    "experiment_name = \"experiment_with_new_hyperparams\"\n",
    "timestamp = time.strftime(\"%Y%m%d_%H%M%S\")\n",
    "experiment_dir = f\"experiments/{experiment_name}_{timestamp}\"\n",
    "\n",
    "os.makedirs(experiment_dir)\n",
    "\n",
    "# During your experiment: \n",
    "# Save logs to os.path.jpin(experiment_dir, \"training_log.txt\")\n",
    "# Save plots to os.path.join(experiment_dir, \"perform_plot.png\")"
   ]
  },
  {
   "cell_type": "code",
   "execution_count": null,
   "id": "e1a14125-9ef3-4493-8405-22f473aebff9",
   "metadata": {},
   "outputs": [],
   "source": []
  }
 ],
 "metadata": {
  "kernelspec": {
   "display_name": "Python 3 (ipykernel)",
   "language": "python",
   "name": "python3"
  },
  "language_info": {
   "codemirror_mode": {
    "name": "ipython",
    "version": 3
   },
   "file_extension": ".py",
   "mimetype": "text/x-python",
   "name": "python",
   "nbconvert_exporter": "python",
   "pygments_lexer": "ipython3",
   "version": "3.11.4"
  }
 },
 "nbformat": 4,
 "nbformat_minor": 5
}
